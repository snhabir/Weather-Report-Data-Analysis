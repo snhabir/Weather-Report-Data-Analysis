{
 "cells": [
  {
   "cell_type": "markdown",
   "id": "2b213820",
   "metadata": {},
   "source": [
    "This dataset contains a weather report of the whole year of <b>2012</b> of <b>Vancouver, Canada</b>. It includes information on the daily temperature, dew point temperature, humidity, visibility, air pressure and wind speed. The dataset can be used to answer questions about the average temperature in Vancouver, the wettest month of the year, or the windiest day of the year. This information could be useful for people who are planning to visit Vancouver or who are interested in the city's climate. "
   ]
  },
  {
   "cell_type": "code",
   "execution_count": 63,
   "id": "b7fe6f48",
   "metadata": {},
   "outputs": [],
   "source": [
    "import pandas as pd  #To load Datasets and process Data\n",
    "import numpy as np  #For linear Algebra\n",
    "import matplotlib.pyplot as plt #For ploting\n",
    "import seaborn as sns #For Ploting\n",
    "import datetime as dt  #To Process date and time"
   ]
  },
  {
   "cell_type": "code",
   "execution_count": 64,
   "id": "eb71e888",
   "metadata": {},
   "outputs": [],
   "source": [
    "#Loading Datasets as dt\n",
    "df = pd.read_csv(\"weather.csv\") "
   ]
  },
  {
   "cell_type": "code",
   "execution_count": 65,
   "id": "96cf8131",
   "metadata": {},
   "outputs": [
    {
     "data": {
      "text/html": [
       "<div>\n",
       "<style scoped>\n",
       "    .dataframe tbody tr th:only-of-type {\n",
       "        vertical-align: middle;\n",
       "    }\n",
       "\n",
       "    .dataframe tbody tr th {\n",
       "        vertical-align: top;\n",
       "    }\n",
       "\n",
       "    .dataframe thead th {\n",
       "        text-align: right;\n",
       "    }\n",
       "</style>\n",
       "<table border=\"1\" class=\"dataframe\">\n",
       "  <thead>\n",
       "    <tr style=\"text-align: right;\">\n",
       "      <th></th>\n",
       "      <th>Date/Time</th>\n",
       "      <th>Temp_C</th>\n",
       "      <th>Dew Point Temp_C</th>\n",
       "      <th>Rel Hum_%</th>\n",
       "      <th>Wind Speed_km/h</th>\n",
       "      <th>Visibility_km</th>\n",
       "      <th>Press_kPa</th>\n",
       "      <th>Weather</th>\n",
       "    </tr>\n",
       "  </thead>\n",
       "  <tbody>\n",
       "    <tr>\n",
       "      <th>0</th>\n",
       "      <td>1/1/2012 0:00</td>\n",
       "      <td>-1.8</td>\n",
       "      <td>-3.9</td>\n",
       "      <td>86</td>\n",
       "      <td>4</td>\n",
       "      <td>8.0</td>\n",
       "      <td>101.24</td>\n",
       "      <td>Fog</td>\n",
       "    </tr>\n",
       "    <tr>\n",
       "      <th>1</th>\n",
       "      <td>1/1/2012 1:00</td>\n",
       "      <td>-1.8</td>\n",
       "      <td>-3.7</td>\n",
       "      <td>87</td>\n",
       "      <td>4</td>\n",
       "      <td>8.0</td>\n",
       "      <td>101.24</td>\n",
       "      <td>Fog</td>\n",
       "    </tr>\n",
       "    <tr>\n",
       "      <th>2</th>\n",
       "      <td>1/1/2012 2:00</td>\n",
       "      <td>-1.8</td>\n",
       "      <td>-3.4</td>\n",
       "      <td>89</td>\n",
       "      <td>7</td>\n",
       "      <td>4.0</td>\n",
       "      <td>101.26</td>\n",
       "      <td>Freezing Drizzle,Fog</td>\n",
       "    </tr>\n",
       "    <tr>\n",
       "      <th>3</th>\n",
       "      <td>1/1/2012 3:00</td>\n",
       "      <td>-1.5</td>\n",
       "      <td>-3.2</td>\n",
       "      <td>88</td>\n",
       "      <td>6</td>\n",
       "      <td>4.0</td>\n",
       "      <td>101.27</td>\n",
       "      <td>Freezing Drizzle,Fog</td>\n",
       "    </tr>\n",
       "    <tr>\n",
       "      <th>4</th>\n",
       "      <td>1/1/2012 4:00</td>\n",
       "      <td>-1.5</td>\n",
       "      <td>-3.3</td>\n",
       "      <td>88</td>\n",
       "      <td>7</td>\n",
       "      <td>4.8</td>\n",
       "      <td>101.23</td>\n",
       "      <td>Fog</td>\n",
       "    </tr>\n",
       "  </tbody>\n",
       "</table>\n",
       "</div>"
      ],
      "text/plain": [
       "       Date/Time  Temp_C  Dew Point Temp_C  Rel Hum_%  Wind Speed_km/h   \n",
       "0  1/1/2012 0:00    -1.8              -3.9         86                4  \\\n",
       "1  1/1/2012 1:00    -1.8              -3.7         87                4   \n",
       "2  1/1/2012 2:00    -1.8              -3.4         89                7   \n",
       "3  1/1/2012 3:00    -1.5              -3.2         88                6   \n",
       "4  1/1/2012 4:00    -1.5              -3.3         88                7   \n",
       "\n",
       "   Visibility_km  Press_kPa               Weather  \n",
       "0            8.0     101.24                   Fog  \n",
       "1            8.0     101.24                   Fog  \n",
       "2            4.0     101.26  Freezing Drizzle,Fog  \n",
       "3            4.0     101.27  Freezing Drizzle,Fog  \n",
       "4            4.8     101.23                   Fog  "
      ]
     },
     "execution_count": 65,
     "metadata": {},
     "output_type": "execute_result"
    }
   ],
   "source": [
    "df.head() "
   ]
  },
  {
   "cell_type": "code",
   "execution_count": 66,
   "id": "3acbea82",
   "metadata": {},
   "outputs": [
    {
     "data": {
      "text/plain": [
       "(8784, 8)"
      ]
     },
     "execution_count": 66,
     "metadata": {},
     "output_type": "execute_result"
    }
   ],
   "source": [
    "df.shape"
   ]
  },
  {
   "cell_type": "code",
   "execution_count": 67,
   "id": "79372429",
   "metadata": {},
   "outputs": [
    {
     "data": {
      "text/plain": [
       "0"
      ]
     },
     "execution_count": 67,
     "metadata": {},
     "output_type": "execute_result"
    }
   ],
   "source": [
    "df.duplicated().sum()  #Finding Duplicates "
   ]
  },
  {
   "cell_type": "code",
   "execution_count": 68,
   "id": "ecefd5a5",
   "metadata": {},
   "outputs": [
    {
     "data": {
      "text/plain": [
       "Date/Time           0\n",
       "Temp_C              0\n",
       "Dew Point Temp_C    0\n",
       "Rel Hum_%           0\n",
       "Wind Speed_km/h     0\n",
       "Visibility_km       0\n",
       "Press_kPa           0\n",
       "Weather             0\n",
       "dtype: int64"
      ]
     },
     "execution_count": 68,
     "metadata": {},
     "output_type": "execute_result"
    }
   ],
   "source": [
    "df.isna().sum() #Finding null value"
   ]
  },
  {
   "cell_type": "code",
   "execution_count": 69,
   "id": "1f7b1072",
   "metadata": {},
   "outputs": [
    {
     "name": "stdout",
     "output_type": "stream",
     "text": [
      "<class 'pandas.core.frame.DataFrame'>\n",
      "RangeIndex: 8784 entries, 0 to 8783\n",
      "Data columns (total 8 columns):\n",
      " #   Column            Non-Null Count  Dtype  \n",
      "---  ------            --------------  -----  \n",
      " 0   Date/Time         8784 non-null   object \n",
      " 1   Temp_C            8784 non-null   float64\n",
      " 2   Dew Point Temp_C  8784 non-null   float64\n",
      " 3   Rel Hum_%         8784 non-null   int64  \n",
      " 4   Wind Speed_km/h   8784 non-null   int64  \n",
      " 5   Visibility_km     8784 non-null   float64\n",
      " 6   Press_kPa         8784 non-null   float64\n",
      " 7   Weather           8784 non-null   object \n",
      "dtypes: float64(4), int64(2), object(2)\n",
      "memory usage: 549.1+ KB\n"
     ]
    }
   ],
   "source": [
    "df.info()"
   ]
  },
  {
   "cell_type": "code",
   "execution_count": 70,
   "id": "2e0d28ab",
   "metadata": {},
   "outputs": [
    {
     "data": {
      "text/plain": [
       "Index(['Date/Time', 'Temp_C', 'Dew Point Temp_C', 'Rel Hum_%',\n",
       "       'Wind Speed_km/h', 'Visibility_km', 'Press_kPa', 'Weather'],\n",
       "      dtype='object')"
      ]
     },
     "execution_count": 70,
     "metadata": {},
     "output_type": "execute_result"
    }
   ],
   "source": [
    "df.columns"
   ]
  },
  {
   "cell_type": "code",
   "execution_count": 71,
   "id": "88a2b744",
   "metadata": {},
   "outputs": [],
   "source": [
    "df[\"Date/Time\"] = pd.to_datetime(df[\"Date/Time\"])  #Changing the Data type of \"Date/Time\" columns"
   ]
  },
  {
   "cell_type": "code",
   "execution_count": 72,
   "id": "25001b2e",
   "metadata": {},
   "outputs": [
    {
     "name": "stdout",
     "output_type": "stream",
     "text": [
      "<class 'pandas.core.frame.DataFrame'>\n",
      "RangeIndex: 8784 entries, 0 to 8783\n",
      "Data columns (total 8 columns):\n",
      " #   Column            Non-Null Count  Dtype         \n",
      "---  ------            --------------  -----         \n",
      " 0   Date/Time         8784 non-null   datetime64[ns]\n",
      " 1   Temp_C            8784 non-null   float64       \n",
      " 2   Dew Point Temp_C  8784 non-null   float64       \n",
      " 3   Rel Hum_%         8784 non-null   int64         \n",
      " 4   Wind Speed_km/h   8784 non-null   int64         \n",
      " 5   Visibility_km     8784 non-null   float64       \n",
      " 6   Press_kPa         8784 non-null   float64       \n",
      " 7   Weather           8784 non-null   object        \n",
      "dtypes: datetime64[ns](1), float64(4), int64(2), object(1)\n",
      "memory usage: 549.1+ KB\n"
     ]
    }
   ],
   "source": [
    "df.info()"
   ]
  },
  {
   "cell_type": "code",
   "execution_count": 73,
   "id": "ccf91f79",
   "metadata": {},
   "outputs": [
    {
     "data": {
      "text/html": [
       "<div>\n",
       "<style scoped>\n",
       "    .dataframe tbody tr th:only-of-type {\n",
       "        vertical-align: middle;\n",
       "    }\n",
       "\n",
       "    .dataframe tbody tr th {\n",
       "        vertical-align: top;\n",
       "    }\n",
       "\n",
       "    .dataframe thead th {\n",
       "        text-align: right;\n",
       "    }\n",
       "</style>\n",
       "<table border=\"1\" class=\"dataframe\">\n",
       "  <thead>\n",
       "    <tr style=\"text-align: right;\">\n",
       "      <th></th>\n",
       "      <th>Date/Time</th>\n",
       "      <th>Temp_C</th>\n",
       "      <th>Dew Point Temp_C</th>\n",
       "      <th>Rel Hum_%</th>\n",
       "      <th>Wind Speed_km/h</th>\n",
       "      <th>Visibility_km</th>\n",
       "      <th>Press_kPa</th>\n",
       "      <th>Weather</th>\n",
       "    </tr>\n",
       "  </thead>\n",
       "  <tbody>\n",
       "    <tr>\n",
       "      <th>0</th>\n",
       "      <td>2012-01-01 00:00:00</td>\n",
       "      <td>-1.8</td>\n",
       "      <td>-3.9</td>\n",
       "      <td>86</td>\n",
       "      <td>4</td>\n",
       "      <td>8.0</td>\n",
       "      <td>101.24</td>\n",
       "      <td>Fog</td>\n",
       "    </tr>\n",
       "    <tr>\n",
       "      <th>1</th>\n",
       "      <td>2012-01-01 01:00:00</td>\n",
       "      <td>-1.8</td>\n",
       "      <td>-3.7</td>\n",
       "      <td>87</td>\n",
       "      <td>4</td>\n",
       "      <td>8.0</td>\n",
       "      <td>101.24</td>\n",
       "      <td>Fog</td>\n",
       "    </tr>\n",
       "    <tr>\n",
       "      <th>2</th>\n",
       "      <td>2012-01-01 02:00:00</td>\n",
       "      <td>-1.8</td>\n",
       "      <td>-3.4</td>\n",
       "      <td>89</td>\n",
       "      <td>7</td>\n",
       "      <td>4.0</td>\n",
       "      <td>101.26</td>\n",
       "      <td>Freezing Drizzle,Fog</td>\n",
       "    </tr>\n",
       "    <tr>\n",
       "      <th>3</th>\n",
       "      <td>2012-01-01 03:00:00</td>\n",
       "      <td>-1.5</td>\n",
       "      <td>-3.2</td>\n",
       "      <td>88</td>\n",
       "      <td>6</td>\n",
       "      <td>4.0</td>\n",
       "      <td>101.27</td>\n",
       "      <td>Freezing Drizzle,Fog</td>\n",
       "    </tr>\n",
       "    <tr>\n",
       "      <th>4</th>\n",
       "      <td>2012-01-01 04:00:00</td>\n",
       "      <td>-1.5</td>\n",
       "      <td>-3.3</td>\n",
       "      <td>88</td>\n",
       "      <td>7</td>\n",
       "      <td>4.8</td>\n",
       "      <td>101.23</td>\n",
       "      <td>Fog</td>\n",
       "    </tr>\n",
       "  </tbody>\n",
       "</table>\n",
       "</div>"
      ],
      "text/plain": [
       "            Date/Time  Temp_C  Dew Point Temp_C  Rel Hum_%  Wind Speed_km/h   \n",
       "0 2012-01-01 00:00:00    -1.8              -3.9         86                4  \\\n",
       "1 2012-01-01 01:00:00    -1.8              -3.7         87                4   \n",
       "2 2012-01-01 02:00:00    -1.8              -3.4         89                7   \n",
       "3 2012-01-01 03:00:00    -1.5              -3.2         88                6   \n",
       "4 2012-01-01 04:00:00    -1.5              -3.3         88                7   \n",
       "\n",
       "   Visibility_km  Press_kPa               Weather  \n",
       "0            8.0     101.24                   Fog  \n",
       "1            8.0     101.24                   Fog  \n",
       "2            4.0     101.26  Freezing Drizzle,Fog  \n",
       "3            4.0     101.27  Freezing Drizzle,Fog  \n",
       "4            4.8     101.23                   Fog  "
      ]
     },
     "execution_count": 73,
     "metadata": {},
     "output_type": "execute_result"
    }
   ],
   "source": [
    "df.head()"
   ]
  },
  {
   "cell_type": "code",
   "execution_count": 74,
   "id": "bc1cc359",
   "metadata": {},
   "outputs": [],
   "source": [
    "#Renaming \"Date/Time\" columns to \"Datetime\"\n",
    "df.rename(columns = {\n",
    "    \"Date/Time\":\"Datetime\"\n",
    "}, inplace = True)"
   ]
  },
  {
   "cell_type": "code",
   "execution_count": 75,
   "id": "9ea8884d",
   "metadata": {},
   "outputs": [
    {
     "data": {
      "text/html": [
       "<div>\n",
       "<style scoped>\n",
       "    .dataframe tbody tr th:only-of-type {\n",
       "        vertical-align: middle;\n",
       "    }\n",
       "\n",
       "    .dataframe tbody tr th {\n",
       "        vertical-align: top;\n",
       "    }\n",
       "\n",
       "    .dataframe thead th {\n",
       "        text-align: right;\n",
       "    }\n",
       "</style>\n",
       "<table border=\"1\" class=\"dataframe\">\n",
       "  <thead>\n",
       "    <tr style=\"text-align: right;\">\n",
       "      <th></th>\n",
       "      <th>Datetime</th>\n",
       "      <th>Temp_C</th>\n",
       "      <th>Dew Point Temp_C</th>\n",
       "      <th>Rel Hum_%</th>\n",
       "      <th>Wind Speed_km/h</th>\n",
       "      <th>Visibility_km</th>\n",
       "      <th>Press_kPa</th>\n",
       "      <th>Weather</th>\n",
       "    </tr>\n",
       "  </thead>\n",
       "  <tbody>\n",
       "    <tr>\n",
       "      <th>0</th>\n",
       "      <td>2012-01-01 00:00:00</td>\n",
       "      <td>-1.8</td>\n",
       "      <td>-3.9</td>\n",
       "      <td>86</td>\n",
       "      <td>4</td>\n",
       "      <td>8.0</td>\n",
       "      <td>101.24</td>\n",
       "      <td>Fog</td>\n",
       "    </tr>\n",
       "    <tr>\n",
       "      <th>1</th>\n",
       "      <td>2012-01-01 01:00:00</td>\n",
       "      <td>-1.8</td>\n",
       "      <td>-3.7</td>\n",
       "      <td>87</td>\n",
       "      <td>4</td>\n",
       "      <td>8.0</td>\n",
       "      <td>101.24</td>\n",
       "      <td>Fog</td>\n",
       "    </tr>\n",
       "    <tr>\n",
       "      <th>2</th>\n",
       "      <td>2012-01-01 02:00:00</td>\n",
       "      <td>-1.8</td>\n",
       "      <td>-3.4</td>\n",
       "      <td>89</td>\n",
       "      <td>7</td>\n",
       "      <td>4.0</td>\n",
       "      <td>101.26</td>\n",
       "      <td>Freezing Drizzle,Fog</td>\n",
       "    </tr>\n",
       "    <tr>\n",
       "      <th>3</th>\n",
       "      <td>2012-01-01 03:00:00</td>\n",
       "      <td>-1.5</td>\n",
       "      <td>-3.2</td>\n",
       "      <td>88</td>\n",
       "      <td>6</td>\n",
       "      <td>4.0</td>\n",
       "      <td>101.27</td>\n",
       "      <td>Freezing Drizzle,Fog</td>\n",
       "    </tr>\n",
       "    <tr>\n",
       "      <th>4</th>\n",
       "      <td>2012-01-01 04:00:00</td>\n",
       "      <td>-1.5</td>\n",
       "      <td>-3.3</td>\n",
       "      <td>88</td>\n",
       "      <td>7</td>\n",
       "      <td>4.8</td>\n",
       "      <td>101.23</td>\n",
       "      <td>Fog</td>\n",
       "    </tr>\n",
       "  </tbody>\n",
       "</table>\n",
       "</div>"
      ],
      "text/plain": [
       "             Datetime  Temp_C  Dew Point Temp_C  Rel Hum_%  Wind Speed_km/h   \n",
       "0 2012-01-01 00:00:00    -1.8              -3.9         86                4  \\\n",
       "1 2012-01-01 01:00:00    -1.8              -3.7         87                4   \n",
       "2 2012-01-01 02:00:00    -1.8              -3.4         89                7   \n",
       "3 2012-01-01 03:00:00    -1.5              -3.2         88                6   \n",
       "4 2012-01-01 04:00:00    -1.5              -3.3         88                7   \n",
       "\n",
       "   Visibility_km  Press_kPa               Weather  \n",
       "0            8.0     101.24                   Fog  \n",
       "1            8.0     101.24                   Fog  \n",
       "2            4.0     101.26  Freezing Drizzle,Fog  \n",
       "3            4.0     101.27  Freezing Drizzle,Fog  \n",
       "4            4.8     101.23                   Fog  "
      ]
     },
     "execution_count": 75,
     "metadata": {},
     "output_type": "execute_result"
    }
   ],
   "source": [
    "df.head()"
   ]
  },
  {
   "cell_type": "code",
   "execution_count": 76,
   "id": "fd7a0a15",
   "metadata": {},
   "outputs": [],
   "source": [
    "#Extractime Time, Day and Month from datetime column\n",
    "df.insert(1, \"Time\", df[\"Datetime\"].dt.time)\n",
    "df.insert(2, \"Day\", df[\"Datetime\"].dt.day)\n",
    "df.insert(3, \"Month\", df[\"Datetime\"].dt.month)"
   ]
  },
  {
   "cell_type": "code",
   "execution_count": 77,
   "id": "2c6210e1",
   "metadata": {},
   "outputs": [],
   "source": [
    "def monthname(value):\n",
    "    value = str(value)\n",
    "    if value == \"1\" :\n",
    "        return value.replace(\"1\", \"January\")\n",
    "    elif value == \"2\" :\n",
    "        return value.replace(\"2\", \"February\")\n",
    "    elif value == \"3\" :\n",
    "        return value.replace(\"3\", \"March\")\n",
    "    elif value == \"4\" :\n",
    "        return value.replace(\"4\", \"April\")\n",
    "    elif value == \"5\" :\n",
    "        return value.replace(\"5\", \"May\")\n",
    "    elif value == \"6\" :\n",
    "        return value.replace(\"6\", \"June\")\n",
    "    elif value == \"7\" :\n",
    "        return value.replace(\"7\", \"July\")\n",
    "    elif value == \"8\" :\n",
    "        return value.replace(\"8\", \"August\")\n",
    "    elif value == \"9\" :\n",
    "        return value.replace(\"9\", \"September\")\n",
    "    elif value == \"10\" :\n",
    "        return value.replace(\"10\", \"October\")\n",
    "    elif value == \"11\" :\n",
    "        return value.replace(\"11\", \"November\")\n",
    "    else:\n",
    "        return value.replace(\"12\", \"December\")\n",
    "\n",
    "df[\"Month\"] = df[\"Month\"].apply(monthname)"
   ]
  },
  {
   "cell_type": "code",
   "execution_count": 78,
   "id": "df457236",
   "metadata": {},
   "outputs": [
    {
     "data": {
      "text/html": [
       "<div>\n",
       "<style scoped>\n",
       "    .dataframe tbody tr th:only-of-type {\n",
       "        vertical-align: middle;\n",
       "    }\n",
       "\n",
       "    .dataframe tbody tr th {\n",
       "        vertical-align: top;\n",
       "    }\n",
       "\n",
       "    .dataframe thead th {\n",
       "        text-align: right;\n",
       "    }\n",
       "</style>\n",
       "<table border=\"1\" class=\"dataframe\">\n",
       "  <thead>\n",
       "    <tr style=\"text-align: right;\">\n",
       "      <th></th>\n",
       "      <th>Datetime</th>\n",
       "      <th>Time</th>\n",
       "      <th>Day</th>\n",
       "      <th>Month</th>\n",
       "      <th>Temp_C</th>\n",
       "      <th>Dew Point Temp_C</th>\n",
       "      <th>Rel Hum_%</th>\n",
       "      <th>Wind Speed_km/h</th>\n",
       "      <th>Visibility_km</th>\n",
       "      <th>Press_kPa</th>\n",
       "      <th>Weather</th>\n",
       "    </tr>\n",
       "  </thead>\n",
       "  <tbody>\n",
       "    <tr>\n",
       "      <th>0</th>\n",
       "      <td>2012-01-01 00:00:00</td>\n",
       "      <td>00:00:00</td>\n",
       "      <td>1</td>\n",
       "      <td>January</td>\n",
       "      <td>-1.8</td>\n",
       "      <td>-3.9</td>\n",
       "      <td>86</td>\n",
       "      <td>4</td>\n",
       "      <td>8.0</td>\n",
       "      <td>101.24</td>\n",
       "      <td>Fog</td>\n",
       "    </tr>\n",
       "    <tr>\n",
       "      <th>1</th>\n",
       "      <td>2012-01-01 01:00:00</td>\n",
       "      <td>01:00:00</td>\n",
       "      <td>1</td>\n",
       "      <td>January</td>\n",
       "      <td>-1.8</td>\n",
       "      <td>-3.7</td>\n",
       "      <td>87</td>\n",
       "      <td>4</td>\n",
       "      <td>8.0</td>\n",
       "      <td>101.24</td>\n",
       "      <td>Fog</td>\n",
       "    </tr>\n",
       "    <tr>\n",
       "      <th>2</th>\n",
       "      <td>2012-01-01 02:00:00</td>\n",
       "      <td>02:00:00</td>\n",
       "      <td>1</td>\n",
       "      <td>January</td>\n",
       "      <td>-1.8</td>\n",
       "      <td>-3.4</td>\n",
       "      <td>89</td>\n",
       "      <td>7</td>\n",
       "      <td>4.0</td>\n",
       "      <td>101.26</td>\n",
       "      <td>Freezing Drizzle,Fog</td>\n",
       "    </tr>\n",
       "    <tr>\n",
       "      <th>3</th>\n",
       "      <td>2012-01-01 03:00:00</td>\n",
       "      <td>03:00:00</td>\n",
       "      <td>1</td>\n",
       "      <td>January</td>\n",
       "      <td>-1.5</td>\n",
       "      <td>-3.2</td>\n",
       "      <td>88</td>\n",
       "      <td>6</td>\n",
       "      <td>4.0</td>\n",
       "      <td>101.27</td>\n",
       "      <td>Freezing Drizzle,Fog</td>\n",
       "    </tr>\n",
       "    <tr>\n",
       "      <th>4</th>\n",
       "      <td>2012-01-01 04:00:00</td>\n",
       "      <td>04:00:00</td>\n",
       "      <td>1</td>\n",
       "      <td>January</td>\n",
       "      <td>-1.5</td>\n",
       "      <td>-3.3</td>\n",
       "      <td>88</td>\n",
       "      <td>7</td>\n",
       "      <td>4.8</td>\n",
       "      <td>101.23</td>\n",
       "      <td>Fog</td>\n",
       "    </tr>\n",
       "  </tbody>\n",
       "</table>\n",
       "</div>"
      ],
      "text/plain": [
       "             Datetime      Time  Day    Month  Temp_C  Dew Point Temp_C   \n",
       "0 2012-01-01 00:00:00  00:00:00    1  January    -1.8              -3.9  \\\n",
       "1 2012-01-01 01:00:00  01:00:00    1  January    -1.8              -3.7   \n",
       "2 2012-01-01 02:00:00  02:00:00    1  January    -1.8              -3.4   \n",
       "3 2012-01-01 03:00:00  03:00:00    1  January    -1.5              -3.2   \n",
       "4 2012-01-01 04:00:00  04:00:00    1  January    -1.5              -3.3   \n",
       "\n",
       "   Rel Hum_%  Wind Speed_km/h  Visibility_km  Press_kPa               Weather  \n",
       "0         86                4            8.0     101.24                   Fog  \n",
       "1         87                4            8.0     101.24                   Fog  \n",
       "2         89                7            4.0     101.26  Freezing Drizzle,Fog  \n",
       "3         88                6            4.0     101.27  Freezing Drizzle,Fog  \n",
       "4         88                7            4.8     101.23                   Fog  "
      ]
     },
     "execution_count": 78,
     "metadata": {},
     "output_type": "execute_result"
    }
   ],
   "source": [
    "df.head()"
   ]
  },
  {
   "cell_type": "markdown",
   "id": "1b751836",
   "metadata": {},
   "source": [
    "## Average Tempreture of a Month:"
   ]
  },
  {
   "cell_type": "code",
   "execution_count": 79,
   "id": "fe562546",
   "metadata": {},
   "outputs": [
    {
     "data": {
      "text/plain": [
       "8.798144353369764"
      ]
     },
     "execution_count": 79,
     "metadata": {},
     "output_type": "execute_result"
    }
   ],
   "source": [
    "df[\"Temp_C\"].mean()"
   ]
  },
  {
   "cell_type": "code",
   "execution_count": 80,
   "id": "4d4c2339",
   "metadata": {},
   "outputs": [],
   "source": [
    "temp = df[[\"Month\", \"Temp_C\"]]\n",
    "ave_temp = temp.groupby([\"Month\"], as_index = False, sort = False).mean()\n",
    "ave_temp[\"Temp_C\"] = ave_temp[\"Temp_C\"].round(2)"
   ]
  },
  {
   "cell_type": "code",
   "execution_count": 81,
   "id": "29e4ef63",
   "metadata": {},
   "outputs": [
    {
     "data": {
      "text/html": [
       "<div>\n",
       "<style scoped>\n",
       "    .dataframe tbody tr th:only-of-type {\n",
       "        vertical-align: middle;\n",
       "    }\n",
       "\n",
       "    .dataframe tbody tr th {\n",
       "        vertical-align: top;\n",
       "    }\n",
       "\n",
       "    .dataframe thead th {\n",
       "        text-align: right;\n",
       "    }\n",
       "</style>\n",
       "<table border=\"1\" class=\"dataframe\">\n",
       "  <thead>\n",
       "    <tr style=\"text-align: right;\">\n",
       "      <th></th>\n",
       "      <th>Month</th>\n",
       "      <th>Temp_C</th>\n",
       "    </tr>\n",
       "  </thead>\n",
       "  <tbody>\n",
       "    <tr>\n",
       "      <th>0</th>\n",
       "      <td>January</td>\n",
       "      <td>-7.37</td>\n",
       "    </tr>\n",
       "    <tr>\n",
       "      <th>1</th>\n",
       "      <td>February</td>\n",
       "      <td>-4.22</td>\n",
       "    </tr>\n",
       "    <tr>\n",
       "      <th>2</th>\n",
       "      <td>March</td>\n",
       "      <td>3.12</td>\n",
       "    </tr>\n",
       "    <tr>\n",
       "      <th>3</th>\n",
       "      <td>April</td>\n",
       "      <td>7.01</td>\n",
       "    </tr>\n",
       "    <tr>\n",
       "      <th>4</th>\n",
       "      <td>May</td>\n",
       "      <td>16.24</td>\n",
       "    </tr>\n",
       "    <tr>\n",
       "      <th>5</th>\n",
       "      <td>June</td>\n",
       "      <td>20.13</td>\n",
       "    </tr>\n",
       "    <tr>\n",
       "      <th>6</th>\n",
       "      <td>July</td>\n",
       "      <td>22.79</td>\n",
       "    </tr>\n",
       "    <tr>\n",
       "      <th>7</th>\n",
       "      <td>August</td>\n",
       "      <td>22.28</td>\n",
       "    </tr>\n",
       "    <tr>\n",
       "      <th>8</th>\n",
       "      <td>September</td>\n",
       "      <td>16.48</td>\n",
       "    </tr>\n",
       "    <tr>\n",
       "      <th>9</th>\n",
       "      <td>October</td>\n",
       "      <td>10.95</td>\n",
       "    </tr>\n",
       "    <tr>\n",
       "      <th>10</th>\n",
       "      <td>November</td>\n",
       "      <td>0.93</td>\n",
       "    </tr>\n",
       "    <tr>\n",
       "      <th>11</th>\n",
       "      <td>December</td>\n",
       "      <td>-3.31</td>\n",
       "    </tr>\n",
       "  </tbody>\n",
       "</table>\n",
       "</div>"
      ],
      "text/plain": [
       "        Month  Temp_C\n",
       "0     January   -7.37\n",
       "1    February   -4.22\n",
       "2       March    3.12\n",
       "3       April    7.01\n",
       "4         May   16.24\n",
       "5        June   20.13\n",
       "6        July   22.79\n",
       "7      August   22.28\n",
       "8   September   16.48\n",
       "9     October   10.95\n",
       "10   November    0.93\n",
       "11   December   -3.31"
      ]
     },
     "execution_count": 81,
     "metadata": {},
     "output_type": "execute_result"
    }
   ],
   "source": [
    "ave_temp"
   ]
  },
  {
   "cell_type": "code",
   "execution_count": 82,
   "id": "fa39716b",
   "metadata": {},
   "outputs": [
    {
     "data": {
      "image/png": "[encoded data removed]",
      "text/plain": [
       "<Figure size 640x480 with 1 Axes>"
      ]
     },
     "metadata": {},
     "output_type": "display_data"
    }
   ],
   "source": [
    "sns.barplot(x = \"Month\", y = \"Temp_C\", data = ave_temp)\n",
    "plt.title(\"Average Temperature of the Month for year 2012\")\n",
    "plt.xticks(rotation = 90)\n",
    "plt.xlabel(\"Month\")\n",
    "plt.ylabel(\"Temperature (Celcius)\")\n",
    "for i in range(len(ave_temp)):\n",
    "    plt.text(i, round(ave_temp[\"Temp_C\"][i], 2), ave_temp[\"Temp_C\"][i], ha=\"center\", va=\"bottom\")\n",
    "plt.show()"
   ]
  },
  {
   "cell_type": "markdown",
   "id": "d3defbfe",
   "metadata": {},
   "source": [
    "<br>"
   ]
  },
  {
   "cell_type": "markdown",
   "id": "e519b315",
   "metadata": {},
   "source": [
    "The <b>Barplot</b> shows the <b>Average Temperature</b> of every month for <b>Year 2012</b> in <b>Vancouver, Canada</b>. We can see that the Average Temperature was <b>8.8°C</b> in Year 2012. We can also see that <b>Highest Average Temperature</b> was <b>22.79°C</b> in <b>July</b> month and <b>Lowest Average Temperature</b> was <b>-7.37°C</b> in <b>January</b> month. So, in <b>Vancouver, Canada</b>, <b>January</b> was the <b>Coldest</b> and <b>july</b> was the <b>Hottest</b> month of the <b>Year 2012</b>."
   ]
  },
  {
   "cell_type": "markdown",
   "id": "7e59c99a",
   "metadata": {},
   "source": [
    "<br>"
   ]
  },
  {
   "cell_type": "markdown",
   "id": "37c6c81e",
   "metadata": {},
   "source": [
    "## Lowest Temperature of a Month:"
   ]
  },
  {
   "cell_type": "code",
   "execution_count": 83,
   "id": "cb935fdc",
   "metadata": {},
   "outputs": [],
   "source": [
    "min_temp = temp.groupby([\"Month\"], as_index = False, sort = False).min()"
   ]
  },
  {
   "cell_type": "code",
   "execution_count": 84,
   "id": "c75b4868",
   "metadata": {},
   "outputs": [
    {
     "data": {
      "text/html": [
       "<div>\n",
       "<style scoped>\n",
       "    .dataframe tbody tr th:only-of-type {\n",
       "        vertical-align: middle;\n",
       "    }\n",
       "\n",
       "    .dataframe tbody tr th {\n",
       "        vertical-align: top;\n",
       "    }\n",
       "\n",
       "    .dataframe thead th {\n",
       "        text-align: right;\n",
       "    }\n",
       "</style>\n",
       "<table border=\"1\" class=\"dataframe\">\n",
       "  <thead>\n",
       "    <tr style=\"text-align: right;\">\n",
       "      <th></th>\n",
       "      <th>Month</th>\n",
       "      <th>Temp_C</th>\n",
       "    </tr>\n",
       "  </thead>\n",
       "  <tbody>\n",
       "    <tr>\n",
       "      <th>0</th>\n",
       "      <td>January</td>\n",
       "      <td>-23.3</td>\n",
       "    </tr>\n",
       "    <tr>\n",
       "      <th>1</th>\n",
       "      <td>February</td>\n",
       "      <td>-16.9</td>\n",
       "    </tr>\n",
       "    <tr>\n",
       "      <th>2</th>\n",
       "      <td>March</td>\n",
       "      <td>-16.2</td>\n",
       "    </tr>\n",
       "    <tr>\n",
       "      <th>3</th>\n",
       "      <td>April</td>\n",
       "      <td>-3.0</td>\n",
       "    </tr>\n",
       "    <tr>\n",
       "      <th>4</th>\n",
       "      <td>May</td>\n",
       "      <td>4.6</td>\n",
       "    </tr>\n",
       "    <tr>\n",
       "      <th>5</th>\n",
       "      <td>June</td>\n",
       "      <td>9.5</td>\n",
       "    </tr>\n",
       "    <tr>\n",
       "      <th>6</th>\n",
       "      <td>July</td>\n",
       "      <td>12.4</td>\n",
       "    </tr>\n",
       "    <tr>\n",
       "      <th>7</th>\n",
       "      <td>August</td>\n",
       "      <td>10.5</td>\n",
       "    </tr>\n",
       "    <tr>\n",
       "      <th>8</th>\n",
       "      <td>September</td>\n",
       "      <td>4.9</td>\n",
       "    </tr>\n",
       "    <tr>\n",
       "      <th>9</th>\n",
       "      <td>October</td>\n",
       "      <td>-1.9</td>\n",
       "    </tr>\n",
       "    <tr>\n",
       "      <th>10</th>\n",
       "      <td>November</td>\n",
       "      <td>-13.6</td>\n",
       "    </tr>\n",
       "    <tr>\n",
       "      <th>11</th>\n",
       "      <td>December</td>\n",
       "      <td>-16.0</td>\n",
       "    </tr>\n",
       "  </tbody>\n",
       "</table>\n",
       "</div>"
      ],
      "text/plain": [
       "        Month  Temp_C\n",
       "0     January   -23.3\n",
       "1    February   -16.9\n",
       "2       March   -16.2\n",
       "3       April    -3.0\n",
       "4         May     4.6\n",
       "5        June     9.5\n",
       "6        July    12.4\n",
       "7      August    10.5\n",
       "8   September     4.9\n",
       "9     October    -1.9\n",
       "10   November   -13.6\n",
       "11   December   -16.0"
      ]
     },
     "execution_count": 84,
     "metadata": {},
     "output_type": "execute_result"
    }
   ],
   "source": [
    "min_temp"
   ]
  },
  {
   "cell_type": "code",
   "execution_count": 85,
   "id": "eaf8b8d2",
   "metadata": {},
   "outputs": [
    {
     "data": {
      "image/png": "[encoded data removed]",
      "text/plain": [
       "<Figure size 640x480 with 1 Axes>"
      ]
     },
     "metadata": {},
     "output_type": "display_data"
    }
   ],
   "source": [
    "sns.barplot(x = \"Month\", y = \"Temp_C\", data = min_temp)\n",
    "plt.xticks(rotation = 90)\n",
    "plt.title(\"Lowest Temperature of a Month for year 2012\")\n",
    "plt.xlabel(\"Month\")\n",
    "plt.ylabel(\"Temperature (Celcius)\")\n",
    "for i in range(len(min_temp)):\n",
    "    plt.text(i, min_temp[\"Temp_C\"][i], min_temp[\"Temp_C\"][i], ha = \"center\", va = \"top\")\n",
    "plt.show()"
   ]
  },
  {
   "cell_type": "markdown",
   "id": "6f299f45",
   "metadata": {},
   "source": [
    "<br>"
   ]
  },
  {
   "cell_type": "markdown",
   "id": "973e8a81",
   "metadata": {},
   "source": [
    "The <b>Barplot</b> shows the <b>Lowest Temperature of Month</b> for <b>Year 2012</b>. From the plot, we can see that the <b>Lowest Temperature</b> for Year 2012 was recorded in <b>January</b> which was <b>-23.3°C</b>."
   ]
  },
  {
   "cell_type": "markdown",
   "id": "ca8201ee",
   "metadata": {},
   "source": [
    "<br>"
   ]
  },
  {
   "cell_type": "markdown",
   "id": "fbfb3d80",
   "metadata": {},
   "source": [
    "## Highest Temperature of a Month:"
   ]
  },
  {
   "cell_type": "code",
   "execution_count": 86,
   "id": "7c3399d4",
   "metadata": {},
   "outputs": [],
   "source": [
    "max_temp = temp.groupby([\"Month\"], as_index = False, sort = False).max()"
   ]
  },
  {
   "cell_type": "code",
   "execution_count": 87,
   "id": "d5416d5c",
   "metadata": {},
   "outputs": [
    {
     "data": {
      "text/html": [
       "<div>\n",
       "<style scoped>\n",
       "    .dataframe tbody tr th:only-of-type {\n",
       "        vertical-align: middle;\n",
       "    }\n",
       "\n",
       "    .dataframe tbody tr th {\n",
       "        vertical-align: top;\n",
       "    }\n",
       "\n",
       "    .dataframe thead th {\n",
       "        text-align: right;\n",
       "    }\n",
       "</style>\n",
       "<table border=\"1\" class=\"dataframe\">\n",
       "  <thead>\n",
       "    <tr style=\"text-align: right;\">\n",
       "      <th></th>\n",
       "      <th>Month</th>\n",
       "      <th>Temp_C</th>\n",
       "    </tr>\n",
       "  </thead>\n",
       "  <tbody>\n",
       "    <tr>\n",
       "      <th>0</th>\n",
       "      <td>January</td>\n",
       "      <td>5.3</td>\n",
       "    </tr>\n",
       "    <tr>\n",
       "      <th>1</th>\n",
       "      <td>February</td>\n",
       "      <td>6.1</td>\n",
       "    </tr>\n",
       "    <tr>\n",
       "      <th>2</th>\n",
       "      <td>March</td>\n",
       "      <td>25.5</td>\n",
       "    </tr>\n",
       "    <tr>\n",
       "      <th>3</th>\n",
       "      <td>April</td>\n",
       "      <td>27.8</td>\n",
       "    </tr>\n",
       "    <tr>\n",
       "      <th>4</th>\n",
       "      <td>May</td>\n",
       "      <td>31.2</td>\n",
       "    </tr>\n",
       "    <tr>\n",
       "      <th>5</th>\n",
       "      <td>June</td>\n",
       "      <td>33.0</td>\n",
       "    </tr>\n",
       "    <tr>\n",
       "      <th>6</th>\n",
       "      <td>July</td>\n",
       "      <td>33.0</td>\n",
       "    </tr>\n",
       "    <tr>\n",
       "      <th>7</th>\n",
       "      <td>August</td>\n",
       "      <td>32.8</td>\n",
       "    </tr>\n",
       "    <tr>\n",
       "      <th>8</th>\n",
       "      <td>September</td>\n",
       "      <td>28.4</td>\n",
       "    </tr>\n",
       "    <tr>\n",
       "      <th>9</th>\n",
       "      <td>October</td>\n",
       "      <td>21.1</td>\n",
       "    </tr>\n",
       "    <tr>\n",
       "      <th>10</th>\n",
       "      <td>November</td>\n",
       "      <td>17.5</td>\n",
       "    </tr>\n",
       "    <tr>\n",
       "      <th>11</th>\n",
       "      <td>December</td>\n",
       "      <td>11.9</td>\n",
       "    </tr>\n",
       "  </tbody>\n",
       "</table>\n",
       "</div>"
      ],
      "text/plain": [
       "        Month  Temp_C\n",
       "0     January     5.3\n",
       "1    February     6.1\n",
       "2       March    25.5\n",
       "3       April    27.8\n",
       "4         May    31.2\n",
       "5        June    33.0\n",
       "6        July    33.0\n",
       "7      August    32.8\n",
       "8   September    28.4\n",
       "9     October    21.1\n",
       "10   November    17.5\n",
       "11   December    11.9"
      ]
     },
     "execution_count": 87,
     "metadata": {},
     "output_type": "execute_result"
    }
   ],
   "source": [
    "max_temp"
   ]
  },
  {
   "cell_type": "code",
   "execution_count": 88,
   "id": "d72aff97",
   "metadata": {},
   "outputs": [
    {
     "data": {
      "image/png": "[encoded data removed]",
      "text/plain": [
       "<Figure size 640x480 with 1 Axes>"
      ]
     },
     "metadata": {},
     "output_type": "display_data"
    }
   ],
   "source": [
    "sns.barplot(x = \"Month\", y = \"Temp_C\", data = max_temp)\n",
    "plt.title(\"Highest Temperature of a Month for year 2012\")\n",
    "plt.xlabel(\"Month\")\n",
    "plt.ylabel(\"Temperature (Celcius)\")\n",
    "plt.xticks(rotation = 90)\n",
    "for i in range(len(max_temp)):\n",
    "    plt.text(i, max_temp[\"Temp_C\"][i], max_temp[\"Temp_C\"][i], ha = \"center\", va = \"bottom\")\n",
    "plt.show()"
   ]
  },
  {
   "cell_type": "markdown",
   "id": "c57d615c",
   "metadata": {},
   "source": [
    "<br>"
   ]
  },
  {
   "cell_type": "markdown",
   "id": "af29cede",
   "metadata": {},
   "source": [
    "The <b>Barplot</b> shows the <b>Highest Temperature of Month</b> for <b>Year 2012</b>. From the plot, we can see that the <b>Highest Temperature</b> for Year 2012 was observed simultaneously in <b>June</b> and <b>July</b> which was <b>33.0°C</b>."
   ]
  },
  {
   "cell_type": "markdown",
   "id": "9f2072b2",
   "metadata": {},
   "source": [
    "<br>"
   ]
  },
  {
   "cell_type": "markdown",
   "id": "f5f4e676",
   "metadata": {},
   "source": [
    "## Average Relative Humidity of a Month:"
   ]
  },
  {
   "cell_type": "code",
   "execution_count": 89,
   "id": "831cdc9b",
   "metadata": {},
   "outputs": [
    {
     "data": {
      "text/plain": [
       "67.43169398907104"
      ]
     },
     "execution_count": 89,
     "metadata": {},
     "output_type": "execute_result"
    }
   ],
   "source": [
    "df[\"Rel Hum_%\"].mean()"
   ]
  },
  {
   "cell_type": "code",
   "execution_count": 90,
   "id": "0dba0c59",
   "metadata": {},
   "outputs": [],
   "source": [
    "hum = df[[\"Month\",\"Rel Hum_%\"]]"
   ]
  },
  {
   "cell_type": "code",
   "execution_count": 91,
   "id": "c33a853c",
   "metadata": {},
   "outputs": [
    {
     "data": {
      "text/html": [
       "<div>\n",
       "<style scoped>\n",
       "    .dataframe tbody tr th:only-of-type {\n",
       "        vertical-align: middle;\n",
       "    }\n",
       "\n",
       "    .dataframe tbody tr th {\n",
       "        vertical-align: top;\n",
       "    }\n",
       "\n",
       "    .dataframe thead th {\n",
       "        text-align: right;\n",
       "    }\n",
       "</style>\n",
       "<table border=\"1\" class=\"dataframe\">\n",
       "  <thead>\n",
       "    <tr style=\"text-align: right;\">\n",
       "      <th></th>\n",
       "      <th>Month</th>\n",
       "      <th>Rel Hum_%</th>\n",
       "    </tr>\n",
       "  </thead>\n",
       "  <tbody>\n",
       "    <tr>\n",
       "      <th>0</th>\n",
       "      <td>January</td>\n",
       "      <td>68.38</td>\n",
       "    </tr>\n",
       "    <tr>\n",
       "      <th>1</th>\n",
       "      <td>February</td>\n",
       "      <td>68.96</td>\n",
       "    </tr>\n",
       "    <tr>\n",
       "      <th>2</th>\n",
       "      <td>March</td>\n",
       "      <td>64.86</td>\n",
       "    </tr>\n",
       "    <tr>\n",
       "      <th>3</th>\n",
       "      <td>April</td>\n",
       "      <td>56.15</td>\n",
       "    </tr>\n",
       "    <tr>\n",
       "      <th>4</th>\n",
       "      <td>May</td>\n",
       "      <td>61.76</td>\n",
       "    </tr>\n",
       "    <tr>\n",
       "      <th>5</th>\n",
       "      <td>June</td>\n",
       "      <td>60.64</td>\n",
       "    </tr>\n",
       "    <tr>\n",
       "      <th>6</th>\n",
       "      <td>July</td>\n",
       "      <td>62.02</td>\n",
       "    </tr>\n",
       "    <tr>\n",
       "      <th>7</th>\n",
       "      <td>August</td>\n",
       "      <td>67.94</td>\n",
       "    </tr>\n",
       "    <tr>\n",
       "      <th>8</th>\n",
       "      <td>September</td>\n",
       "      <td>71.17</td>\n",
       "    </tr>\n",
       "    <tr>\n",
       "      <th>9</th>\n",
       "      <td>October</td>\n",
       "      <td>75.73</td>\n",
       "    </tr>\n",
       "    <tr>\n",
       "      <th>10</th>\n",
       "      <td>November</td>\n",
       "      <td>69.98</td>\n",
       "    </tr>\n",
       "    <tr>\n",
       "      <th>11</th>\n",
       "      <td>December</td>\n",
       "      <td>81.30</td>\n",
       "    </tr>\n",
       "  </tbody>\n",
       "</table>\n",
       "</div>"
      ],
      "text/plain": [
       "        Month  Rel Hum_%\n",
       "0     January      68.38\n",
       "1    February      68.96\n",
       "2       March      64.86\n",
       "3       April      56.15\n",
       "4         May      61.76\n",
       "5        June      60.64\n",
       "6        July      62.02\n",
       "7      August      67.94\n",
       "8   September      71.17\n",
       "9     October      75.73\n",
       "10   November      69.98\n",
       "11   December      81.30"
      ]
     },
     "execution_count": 91,
     "metadata": {},
     "output_type": "execute_result"
    }
   ],
   "source": [
    "ave_hum = hum.groupby([\"Month\"], as_index = False, sort = False).mean()\n",
    "ave_hum[\"Rel Hum_%\"] = ave_hum[\"Rel Hum_%\"].round(2)\n",
    "ave_hum"
   ]
  },
  {
   "cell_type": "code",
   "execution_count": 92,
   "id": "fd7bf4a7",
   "metadata": {},
   "outputs": [
    {
     "data": {
      "image/png": "[encoded data removed]",
      "text/plain": [
       "<Figure size 640x480 with 1 Axes>"
      ]
     },
     "metadata": {},
     "output_type": "display_data"
    }
   ],
   "source": [
    "sns.barplot(x=\"Month\", y = \"Rel Hum_%\", data = ave_hum)\n",
    "plt.title(\"Average Relative Humidity of a Month for Year 2012\")\n",
    "plt.xlabel(\"Month\")\n",
    "plt.ylabel(\"Relative Humidity (%)\")\n",
    "plt.xticks(rotation = 90)\n",
    "for i in range(len(ave_hum)):\n",
    "    plt.text(i, ave_hum[\"Rel Hum_%\"][i], ave_hum[\"Rel Hum_%\"][i], ha = \"center\", va = \"bottom\")\n",
    "plt.show()"
   ]
  },
  {
   "cell_type": "markdown",
   "id": "2a2a481f",
   "metadata": {},
   "source": [
    "<br>"
   ]
  },
  {
   "cell_type": "markdown",
   "id": "2495955d",
   "metadata": {},
   "source": [
    "The <b>Barplot</b> shows the <b>Average Relative Humidity</b> of every month for <b>Year 2012</b> in <b>Vancouver, Canada</b>. We can see that the Average Relative Humidity was <b>67.43%</b> in Year 2012. We can also see that <b>Highest Average Relative Humidity</b> was <b>81.3%</b> in <b>December</b> month and <b>Lowest Average Relative Humidity</b> was <b>56.15</b> in <b>January</b> month."
   ]
  },
  {
   "cell_type": "markdown",
   "id": "5d5fbf2c",
   "metadata": {},
   "source": [
    "<br>"
   ]
  },
  {
   "cell_type": "markdown",
   "id": "9f3fe177",
   "metadata": {},
   "source": [
    "## Highest Relative Humidity of a Month:"
   ]
  },
  {
   "cell_type": "code",
   "execution_count": 93,
   "id": "aa630fbc",
   "metadata": {},
   "outputs": [
    {
     "data": {
      "text/html": [
       "<div>\n",
       "<style scoped>\n",
       "    .dataframe tbody tr th:only-of-type {\n",
       "        vertical-align: middle;\n",
       "    }\n",
       "\n",
       "    .dataframe tbody tr th {\n",
       "        vertical-align: top;\n",
       "    }\n",
       "\n",
       "    .dataframe thead th {\n",
       "        text-align: right;\n",
       "    }\n",
       "</style>\n",
       "<table border=\"1\" class=\"dataframe\">\n",
       "  <thead>\n",
       "    <tr style=\"text-align: right;\">\n",
       "      <th></th>\n",
       "      <th>Datetime</th>\n",
       "      <th>Time</th>\n",
       "      <th>Day</th>\n",
       "      <th>Month</th>\n",
       "      <th>Temp_C</th>\n",
       "      <th>Dew Point Temp_C</th>\n",
       "      <th>Rel Hum_%</th>\n",
       "      <th>Wind Speed_km/h</th>\n",
       "      <th>Visibility_km</th>\n",
       "      <th>Press_kPa</th>\n",
       "      <th>Weather</th>\n",
       "    </tr>\n",
       "  </thead>\n",
       "  <tbody>\n",
       "    <tr>\n",
       "      <th>0</th>\n",
       "      <td>2012-01-01 00:00:00</td>\n",
       "      <td>00:00:00</td>\n",
       "      <td>1</td>\n",
       "      <td>January</td>\n",
       "      <td>-1.8</td>\n",
       "      <td>-3.9</td>\n",
       "      <td>86</td>\n",
       "      <td>4</td>\n",
       "      <td>8.0</td>\n",
       "      <td>101.24</td>\n",
       "      <td>Fog</td>\n",
       "    </tr>\n",
       "    <tr>\n",
       "      <th>1</th>\n",
       "      <td>2012-01-01 01:00:00</td>\n",
       "      <td>01:00:00</td>\n",
       "      <td>1</td>\n",
       "      <td>January</td>\n",
       "      <td>-1.8</td>\n",
       "      <td>-3.7</td>\n",
       "      <td>87</td>\n",
       "      <td>4</td>\n",
       "      <td>8.0</td>\n",
       "      <td>101.24</td>\n",
       "      <td>Fog</td>\n",
       "    </tr>\n",
       "    <tr>\n",
       "      <th>2</th>\n",
       "      <td>2012-01-01 02:00:00</td>\n",
       "      <td>02:00:00</td>\n",
       "      <td>1</td>\n",
       "      <td>January</td>\n",
       "      <td>-1.8</td>\n",
       "      <td>-3.4</td>\n",
       "      <td>89</td>\n",
       "      <td>7</td>\n",
       "      <td>4.0</td>\n",
       "      <td>101.26</td>\n",
       "      <td>Freezing Drizzle,Fog</td>\n",
       "    </tr>\n",
       "    <tr>\n",
       "      <th>3</th>\n",
       "      <td>2012-01-01 03:00:00</td>\n",
       "      <td>03:00:00</td>\n",
       "      <td>1</td>\n",
       "      <td>January</td>\n",
       "      <td>-1.5</td>\n",
       "      <td>-3.2</td>\n",
       "      <td>88</td>\n",
       "      <td>6</td>\n",
       "      <td>4.0</td>\n",
       "      <td>101.27</td>\n",
       "      <td>Freezing Drizzle,Fog</td>\n",
       "    </tr>\n",
       "    <tr>\n",
       "      <th>4</th>\n",
       "      <td>2012-01-01 04:00:00</td>\n",
       "      <td>04:00:00</td>\n",
       "      <td>1</td>\n",
       "      <td>January</td>\n",
       "      <td>-1.5</td>\n",
       "      <td>-3.3</td>\n",
       "      <td>88</td>\n",
       "      <td>7</td>\n",
       "      <td>4.8</td>\n",
       "      <td>101.23</td>\n",
       "      <td>Fog</td>\n",
       "    </tr>\n",
       "  </tbody>\n",
       "</table>\n",
       "</div>"
      ],
      "text/plain": [
       "             Datetime      Time  Day    Month  Temp_C  Dew Point Temp_C   \n",
       "0 2012-01-01 00:00:00  00:00:00    1  January    -1.8              -3.9  \\\n",
       "1 2012-01-01 01:00:00  01:00:00    1  January    -1.8              -3.7   \n",
       "2 2012-01-01 02:00:00  02:00:00    1  January    -1.8              -3.4   \n",
       "3 2012-01-01 03:00:00  03:00:00    1  January    -1.5              -3.2   \n",
       "4 2012-01-01 04:00:00  04:00:00    1  January    -1.5              -3.3   \n",
       "\n",
       "   Rel Hum_%  Wind Speed_km/h  Visibility_km  Press_kPa               Weather  \n",
       "0         86                4            8.0     101.24                   Fog  \n",
       "1         87                4            8.0     101.24                   Fog  \n",
       "2         89                7            4.0     101.26  Freezing Drizzle,Fog  \n",
       "3         88                6            4.0     101.27  Freezing Drizzle,Fog  \n",
       "4         88                7            4.8     101.23                   Fog  "
      ]
     },
     "execution_count": 93,
     "metadata": {},
     "output_type": "execute_result"
    }
   ],
   "source": [
    "df.head()"
   ]
  },
  {
   "cell_type": "code",
   "execution_count": 94,
   "id": "434e8a66",
   "metadata": {},
   "outputs": [
    {
     "data": {
      "text/html": [
       "<div>\n",
       "<style scoped>\n",
       "    .dataframe tbody tr th:only-of-type {\n",
       "        vertical-align: middle;\n",
       "    }\n",
       "\n",
       "    .dataframe tbody tr th {\n",
       "        vertical-align: top;\n",
       "    }\n",
       "\n",
       "    .dataframe thead th {\n",
       "        text-align: right;\n",
       "    }\n",
       "</style>\n",
       "<table border=\"1\" class=\"dataframe\">\n",
       "  <thead>\n",
       "    <tr style=\"text-align: right;\">\n",
       "      <th></th>\n",
       "      <th>Month</th>\n",
       "      <th>Rel Hum_%</th>\n",
       "    </tr>\n",
       "  </thead>\n",
       "  <tbody>\n",
       "    <tr>\n",
       "      <th>0</th>\n",
       "      <td>January</td>\n",
       "      <td>93</td>\n",
       "    </tr>\n",
       "    <tr>\n",
       "      <th>1</th>\n",
       "      <td>February</td>\n",
       "      <td>94</td>\n",
       "    </tr>\n",
       "    <tr>\n",
       "      <th>2</th>\n",
       "      <td>March</td>\n",
       "      <td>100</td>\n",
       "    </tr>\n",
       "    <tr>\n",
       "      <th>3</th>\n",
       "      <td>April</td>\n",
       "      <td>94</td>\n",
       "    </tr>\n",
       "    <tr>\n",
       "      <th>4</th>\n",
       "      <td>May</td>\n",
       "      <td>95</td>\n",
       "    </tr>\n",
       "    <tr>\n",
       "      <th>5</th>\n",
       "      <td>June</td>\n",
       "      <td>90</td>\n",
       "    </tr>\n",
       "    <tr>\n",
       "      <th>6</th>\n",
       "      <td>July</td>\n",
       "      <td>98</td>\n",
       "    </tr>\n",
       "    <tr>\n",
       "      <th>7</th>\n",
       "      <td>August</td>\n",
       "      <td>99</td>\n",
       "    </tr>\n",
       "    <tr>\n",
       "      <th>8</th>\n",
       "      <td>September</td>\n",
       "      <td>100</td>\n",
       "    </tr>\n",
       "    <tr>\n",
       "      <th>9</th>\n",
       "      <td>October</td>\n",
       "      <td>100</td>\n",
       "    </tr>\n",
       "    <tr>\n",
       "      <th>10</th>\n",
       "      <td>November</td>\n",
       "      <td>95</td>\n",
       "    </tr>\n",
       "    <tr>\n",
       "      <th>11</th>\n",
       "      <td>December</td>\n",
       "      <td>100</td>\n",
       "    </tr>\n",
       "  </tbody>\n",
       "</table>\n",
       "</div>"
      ],
      "text/plain": [
       "        Month  Rel Hum_%\n",
       "0     January         93\n",
       "1    February         94\n",
       "2       March        100\n",
       "3       April         94\n",
       "4         May         95\n",
       "5        June         90\n",
       "6        July         98\n",
       "7      August         99\n",
       "8   September        100\n",
       "9     October        100\n",
       "10   November         95\n",
       "11   December        100"
      ]
     },
     "execution_count": 94,
     "metadata": {},
     "output_type": "execute_result"
    }
   ],
   "source": [
    "high_hum = hum.groupby([\"Month\"], as_index = False, sort = False).max()\n",
    "high_hum"
   ]
  },
  {
   "cell_type": "code",
   "execution_count": 95,
   "id": "2c1ed01d",
   "metadata": {
    "scrolled": false
   },
   "outputs": [
    {
     "data": {
      "image/png": "[encoded data removed]",
      "text/plain": [
       "<Figure size 640x480 with 1 Axes>"
      ]
     },
     "metadata": {},
     "output_type": "display_data"
    }
   ],
   "source": [
    "sns.barplot(x=\"Month\", y = \"Rel Hum_%\", data = high_hum)\n",
    "plt.title(\"Highest Relative Humidity of a Month for year 2012\")\n",
    "plt.xlabel(\"Month\")\n",
    "plt.ylabel(\"Relative Humidity (%)\")\n",
    "plt.xticks(rotation = 90)\n",
    "for i in range(len(high_hum)):\n",
    "    plt.text(i, high_hum[\"Rel Hum_%\"][i], high_hum[\"Rel Hum_%\"][i], ha = \"center\", va = \"bottom\")\n",
    "plt.show()"
   ]
  },
  {
   "cell_type": "markdown",
   "id": "0935cdd8",
   "metadata": {},
   "source": [
    "<br>"
   ]
  },
  {
   "cell_type": "markdown",
   "id": "5a8415ed",
   "metadata": {},
   "source": [
    "The <b>Barplot</b> shows the <b>Highest Relative Humidity of Month</b> for <b>Year 2012</b>. From the plot, we can see that the <b>Highest Relative Humidity</b> for Year 2012 was observed simultaneously in <b>March, September, October</b> and <b>December</b> which was <b>100%</b>."
   ]
  },
  {
   "cell_type": "markdown",
   "id": "2e845880",
   "metadata": {},
   "source": [
    "<br>"
   ]
  },
  {
   "cell_type": "markdown",
   "id": "106bab71",
   "metadata": {},
   "source": [
    "## Lowest Humidity of a Month:"
   ]
  },
  {
   "cell_type": "code",
   "execution_count": 96,
   "id": "c1f51c92",
   "metadata": {},
   "outputs": [
    {
     "data": {
      "text/html": [
       "<div>\n",
       "<style scoped>\n",
       "    .dataframe tbody tr th:only-of-type {\n",
       "        vertical-align: middle;\n",
       "    }\n",
       "\n",
       "    .dataframe tbody tr th {\n",
       "        vertical-align: top;\n",
       "    }\n",
       "\n",
       "    .dataframe thead th {\n",
       "        text-align: right;\n",
       "    }\n",
       "</style>\n",
       "<table border=\"1\" class=\"dataframe\">\n",
       "  <thead>\n",
       "    <tr style=\"text-align: right;\">\n",
       "      <th></th>\n",
       "      <th>Month</th>\n",
       "      <th>Rel Hum_%</th>\n",
       "    </tr>\n",
       "  </thead>\n",
       "  <tbody>\n",
       "    <tr>\n",
       "      <th>0</th>\n",
       "      <td>January</td>\n",
       "      <td>42</td>\n",
       "    </tr>\n",
       "    <tr>\n",
       "      <th>1</th>\n",
       "      <td>February</td>\n",
       "      <td>37</td>\n",
       "    </tr>\n",
       "    <tr>\n",
       "      <th>2</th>\n",
       "      <td>March</td>\n",
       "      <td>18</td>\n",
       "    </tr>\n",
       "    <tr>\n",
       "      <th>3</th>\n",
       "      <td>April</td>\n",
       "      <td>21</td>\n",
       "    </tr>\n",
       "    <tr>\n",
       "      <th>4</th>\n",
       "      <td>May</td>\n",
       "      <td>18</td>\n",
       "    </tr>\n",
       "    <tr>\n",
       "      <th>5</th>\n",
       "      <td>June</td>\n",
       "      <td>24</td>\n",
       "    </tr>\n",
       "    <tr>\n",
       "      <th>6</th>\n",
       "      <td>July</td>\n",
       "      <td>26</td>\n",
       "    </tr>\n",
       "    <tr>\n",
       "      <th>7</th>\n",
       "      <td>August</td>\n",
       "      <td>35</td>\n",
       "    </tr>\n",
       "    <tr>\n",
       "      <th>8</th>\n",
       "      <td>September</td>\n",
       "      <td>29</td>\n",
       "    </tr>\n",
       "    <tr>\n",
       "      <th>9</th>\n",
       "      <td>October</td>\n",
       "      <td>37</td>\n",
       "    </tr>\n",
       "    <tr>\n",
       "      <th>10</th>\n",
       "      <td>November</td>\n",
       "      <td>29</td>\n",
       "    </tr>\n",
       "    <tr>\n",
       "      <th>11</th>\n",
       "      <td>December</td>\n",
       "      <td>51</td>\n",
       "    </tr>\n",
       "  </tbody>\n",
       "</table>\n",
       "</div>"
      ],
      "text/plain": [
       "        Month  Rel Hum_%\n",
       "0     January         42\n",
       "1    February         37\n",
       "2       March         18\n",
       "3       April         21\n",
       "4         May         18\n",
       "5        June         24\n",
       "6        July         26\n",
       "7      August         35\n",
       "8   September         29\n",
       "9     October         37\n",
       "10   November         29\n",
       "11   December         51"
      ]
     },
     "execution_count": 96,
     "metadata": {},
     "output_type": "execute_result"
    }
   ],
   "source": [
    "low_hum = hum.groupby([\"Month\"], as_index= False, sort = False).min()\n",
    "low_hum"
   ]
  },
  {
   "cell_type": "code",
   "execution_count": 97,
   "id": "699061d7",
   "metadata": {},
   "outputs": [
    {
     "data": {
      "image/png": "[encoded data removed]",
      "text/plain": [
       "<Figure size 640x480 with 1 Axes>"
      ]
     },
     "metadata": {},
     "output_type": "display_data"
    }
   ],
   "source": [
    "sns.barplot(x = \"Month\", y = \"Rel Hum_%\", data = low_hum)\n",
    "plt.title(\"Lowest Relative Humidity of a Month for Year 2012\")\n",
    "plt.xlabel(\"Month\")\n",
    "plt.ylabel(\"Relatice Humidity (%)\")\n",
    "plt.xticks(rotation = 90)\n",
    "for i in range(len(low_hum)):\n",
    "    plt.text(i, low_hum[\"Rel Hum_%\"][i], low_hum[\"Rel Hum_%\"][i], ha = \"center\", va = \"bottom\")\n",
    "plt.show()"
   ]
  },
  {
   "cell_type": "markdown",
   "id": "981faf68",
   "metadata": {},
   "source": [
    "<br>"
   ]
  },
  {
   "cell_type": "markdown",
   "id": "351f7737",
   "metadata": {},
   "source": [
    "The <b>Barplot</b> shows the <b>Lowest Relative Humidity of Month</b> for <b>Year 2012</b>. From the plot, we can see that the <b>Highest Relative Humidity</b> for Year 2012 was observed simultaneously in <b>March</b> and <b>May</b> which was <b>18%</b>."
   ]
  },
  {
   "cell_type": "markdown",
   "id": "290d7844",
   "metadata": {},
   "source": [
    "<b>\n",
    "   "
   ]
  },
  {
   "cell_type": "markdown",
   "id": "5450bb4e",
   "metadata": {},
   "source": [
    "## Highest Visibility of a Month:"
   ]
  },
  {
   "cell_type": "code",
   "execution_count": 98,
   "id": "829dd115",
   "metadata": {},
   "outputs": [
    {
     "data": {
      "text/html": [
       "<div>\n",
       "<style scoped>\n",
       "    .dataframe tbody tr th:only-of-type {\n",
       "        vertical-align: middle;\n",
       "    }\n",
       "\n",
       "    .dataframe tbody tr th {\n",
       "        vertical-align: top;\n",
       "    }\n",
       "\n",
       "    .dataframe thead th {\n",
       "        text-align: right;\n",
       "    }\n",
       "</style>\n",
       "<table border=\"1\" class=\"dataframe\">\n",
       "  <thead>\n",
       "    <tr style=\"text-align: right;\">\n",
       "      <th></th>\n",
       "      <th>Datetime</th>\n",
       "      <th>Time</th>\n",
       "      <th>Day</th>\n",
       "      <th>Month</th>\n",
       "      <th>Temp_C</th>\n",
       "      <th>Dew Point Temp_C</th>\n",
       "      <th>Rel Hum_%</th>\n",
       "      <th>Wind Speed_km/h</th>\n",
       "      <th>Visibility_km</th>\n",
       "      <th>Press_kPa</th>\n",
       "      <th>Weather</th>\n",
       "    </tr>\n",
       "  </thead>\n",
       "  <tbody>\n",
       "    <tr>\n",
       "      <th>0</th>\n",
       "      <td>2012-01-01 00:00:00</td>\n",
       "      <td>00:00:00</td>\n",
       "      <td>1</td>\n",
       "      <td>January</td>\n",
       "      <td>-1.8</td>\n",
       "      <td>-3.9</td>\n",
       "      <td>86</td>\n",
       "      <td>4</td>\n",
       "      <td>8.0</td>\n",
       "      <td>101.24</td>\n",
       "      <td>Fog</td>\n",
       "    </tr>\n",
       "    <tr>\n",
       "      <th>1</th>\n",
       "      <td>2012-01-01 01:00:00</td>\n",
       "      <td>01:00:00</td>\n",
       "      <td>1</td>\n",
       "      <td>January</td>\n",
       "      <td>-1.8</td>\n",
       "      <td>-3.7</td>\n",
       "      <td>87</td>\n",
       "      <td>4</td>\n",
       "      <td>8.0</td>\n",
       "      <td>101.24</td>\n",
       "      <td>Fog</td>\n",
       "    </tr>\n",
       "  </tbody>\n",
       "</table>\n",
       "</div>"
      ],
      "text/plain": [
       "             Datetime      Time  Day    Month  Temp_C  Dew Point Temp_C   \n",
       "0 2012-01-01 00:00:00  00:00:00    1  January    -1.8              -3.9  \\\n",
       "1 2012-01-01 01:00:00  01:00:00    1  January    -1.8              -3.7   \n",
       "\n",
       "   Rel Hum_%  Wind Speed_km/h  Visibility_km  Press_kPa Weather  \n",
       "0         86                4            8.0     101.24     Fog  \n",
       "1         87                4            8.0     101.24     Fog  "
      ]
     },
     "execution_count": 98,
     "metadata": {},
     "output_type": "execute_result"
    }
   ],
   "source": [
    "df.head(2)"
   ]
  },
  {
   "cell_type": "code",
   "execution_count": 99,
   "id": "349c66c7",
   "metadata": {},
   "outputs": [],
   "source": [
    "vis = df[[\"Month\", \"Visibility_km\"]]"
   ]
  },
  {
   "cell_type": "code",
   "execution_count": 100,
   "id": "44472d31",
   "metadata": {},
   "outputs": [
    {
     "data": {
      "text/html": [
       "<div>\n",
       "<style scoped>\n",
       "    .dataframe tbody tr th:only-of-type {\n",
       "        vertical-align: middle;\n",
       "    }\n",
       "\n",
       "    .dataframe tbody tr th {\n",
       "        vertical-align: top;\n",
       "    }\n",
       "\n",
       "    .dataframe thead th {\n",
       "        text-align: right;\n",
       "    }\n",
       "</style>\n",
       "<table border=\"1\" class=\"dataframe\">\n",
       "  <thead>\n",
       "    <tr style=\"text-align: right;\">\n",
       "      <th></th>\n",
       "      <th>Month</th>\n",
       "      <th>Visibility_km</th>\n",
       "    </tr>\n",
       "  </thead>\n",
       "  <tbody>\n",
       "    <tr>\n",
       "      <th>0</th>\n",
       "      <td>January</td>\n",
       "      <td>48.3</td>\n",
       "    </tr>\n",
       "    <tr>\n",
       "      <th>1</th>\n",
       "      <td>February</td>\n",
       "      <td>48.3</td>\n",
       "    </tr>\n",
       "    <tr>\n",
       "      <th>2</th>\n",
       "      <td>March</td>\n",
       "      <td>48.3</td>\n",
       "    </tr>\n",
       "    <tr>\n",
       "      <th>3</th>\n",
       "      <td>April</td>\n",
       "      <td>48.3</td>\n",
       "    </tr>\n",
       "    <tr>\n",
       "      <th>4</th>\n",
       "      <td>May</td>\n",
       "      <td>48.3</td>\n",
       "    </tr>\n",
       "    <tr>\n",
       "      <th>5</th>\n",
       "      <td>June</td>\n",
       "      <td>48.3</td>\n",
       "    </tr>\n",
       "    <tr>\n",
       "      <th>6</th>\n",
       "      <td>July</td>\n",
       "      <td>48.3</td>\n",
       "    </tr>\n",
       "    <tr>\n",
       "      <th>7</th>\n",
       "      <td>August</td>\n",
       "      <td>48.3</td>\n",
       "    </tr>\n",
       "    <tr>\n",
       "      <th>8</th>\n",
       "      <td>September</td>\n",
       "      <td>48.3</td>\n",
       "    </tr>\n",
       "    <tr>\n",
       "      <th>9</th>\n",
       "      <td>October</td>\n",
       "      <td>48.3</td>\n",
       "    </tr>\n",
       "    <tr>\n",
       "      <th>10</th>\n",
       "      <td>November</td>\n",
       "      <td>48.3</td>\n",
       "    </tr>\n",
       "    <tr>\n",
       "      <th>11</th>\n",
       "      <td>December</td>\n",
       "      <td>48.3</td>\n",
       "    </tr>\n",
       "  </tbody>\n",
       "</table>\n",
       "</div>"
      ],
      "text/plain": [
       "        Month  Visibility_km\n",
       "0     January           48.3\n",
       "1    February           48.3\n",
       "2       March           48.3\n",
       "3       April           48.3\n",
       "4         May           48.3\n",
       "5        June           48.3\n",
       "6        July           48.3\n",
       "7      August           48.3\n",
       "8   September           48.3\n",
       "9     October           48.3\n",
       "10   November           48.3\n",
       "11   December           48.3"
      ]
     },
     "execution_count": 100,
     "metadata": {},
     "output_type": "execute_result"
    }
   ],
   "source": [
    "high_vis = vis.groupby([\"Month\"], as_index = False, sort = False).max()\n",
    "high_vis"
   ]
  },
  {
   "cell_type": "code",
   "execution_count": 101,
   "id": "2c842bac",
   "metadata": {},
   "outputs": [
    {
     "data": {
      "image/png": "[encoded data removed]",
      "text/plain": [
       "<Figure size 640x480 with 1 Axes>"
      ]
     },
     "metadata": {},
     "output_type": "display_data"
    }
   ],
   "source": [
    "sns.barplot(x = \"Month\", y = \"Visibility_km\", data = high_vis)\n",
    "plt.title(\"Highest Visibility of a Month for Year 2012\")\n",
    "plt.xlabel(\"Month\")\n",
    "plt.ylabel(\"Visibility (KM)\")\n",
    "plt.xticks(rotation = 90)\n",
    "for i in range(len(high_vis)):\n",
    "    plt.text(i, high_vis[\"Visibility_km\"][i], high_vis[\"Visibility_km\"][i], ha = \"center\", va = \"bottom\")\n",
    "plt.show()"
   ]
  },
  {
   "cell_type": "markdown",
   "id": "d7e6f027",
   "metadata": {},
   "source": [
    "<br>"
   ]
  },
  {
   "cell_type": "markdown",
   "id": "f16e6ccc",
   "metadata": {},
   "source": [
    "The <b>Barplot</b> shows the <b>Highest Visibility of a  Month</b> for <b>Year 2012</b>. From the plot, we can see that the <b>Highest Visibility</b> was observed 48.3 KM for <b>all Months</b> in Year 2012."
   ]
  },
  {
   "cell_type": "markdown",
   "id": "51e05314",
   "metadata": {},
   "source": [
    "<br>"
   ]
  },
  {
   "cell_type": "markdown",
   "id": "abd81dc9",
   "metadata": {},
   "source": [
    "## Lowest Visibility of a Month"
   ]
  },
  {
   "cell_type": "code",
   "execution_count": 102,
   "id": "a7e30fcf",
   "metadata": {},
   "outputs": [
    {
     "data": {
      "text/html": [
       "<div>\n",
       "<style scoped>\n",
       "    .dataframe tbody tr th:only-of-type {\n",
       "        vertical-align: middle;\n",
       "    }\n",
       "\n",
       "    .dataframe tbody tr th {\n",
       "        vertical-align: top;\n",
       "    }\n",
       "\n",
       "    .dataframe thead th {\n",
       "        text-align: right;\n",
       "    }\n",
       "</style>\n",
       "<table border=\"1\" class=\"dataframe\">\n",
       "  <thead>\n",
       "    <tr style=\"text-align: right;\">\n",
       "      <th></th>\n",
       "      <th>Month</th>\n",
       "      <th>Visibility_km</th>\n",
       "    </tr>\n",
       "  </thead>\n",
       "  <tbody>\n",
       "    <tr>\n",
       "      <th>0</th>\n",
       "      <td>January</td>\n",
       "      <td>0.6</td>\n",
       "    </tr>\n",
       "    <tr>\n",
       "      <th>1</th>\n",
       "      <td>February</td>\n",
       "      <td>0.8</td>\n",
       "    </tr>\n",
       "    <tr>\n",
       "      <th>2</th>\n",
       "      <td>March</td>\n",
       "      <td>0.2</td>\n",
       "    </tr>\n",
       "    <tr>\n",
       "      <th>3</th>\n",
       "      <td>April</td>\n",
       "      <td>8.0</td>\n",
       "    </tr>\n",
       "    <tr>\n",
       "      <th>4</th>\n",
       "      <td>May</td>\n",
       "      <td>0.4</td>\n",
       "    </tr>\n",
       "    <tr>\n",
       "      <th>5</th>\n",
       "      <td>June</td>\n",
       "      <td>4.8</td>\n",
       "    </tr>\n",
       "    <tr>\n",
       "      <th>6</th>\n",
       "      <td>July</td>\n",
       "      <td>3.2</td>\n",
       "    </tr>\n",
       "    <tr>\n",
       "      <th>7</th>\n",
       "      <td>August</td>\n",
       "      <td>4.8</td>\n",
       "    </tr>\n",
       "    <tr>\n",
       "      <th>8</th>\n",
       "      <td>September</td>\n",
       "      <td>6.4</td>\n",
       "    </tr>\n",
       "    <tr>\n",
       "      <th>9</th>\n",
       "      <td>October</td>\n",
       "      <td>0.4</td>\n",
       "    </tr>\n",
       "    <tr>\n",
       "      <th>10</th>\n",
       "      <td>November</td>\n",
       "      <td>2.4</td>\n",
       "    </tr>\n",
       "    <tr>\n",
       "      <th>11</th>\n",
       "      <td>December</td>\n",
       "      <td>0.6</td>\n",
       "    </tr>\n",
       "  </tbody>\n",
       "</table>\n",
       "</div>"
      ],
      "text/plain": [
       "        Month  Visibility_km\n",
       "0     January            0.6\n",
       "1    February            0.8\n",
       "2       March            0.2\n",
       "3       April            8.0\n",
       "4         May            0.4\n",
       "5        June            4.8\n",
       "6        July            3.2\n",
       "7      August            4.8\n",
       "8   September            6.4\n",
       "9     October            0.4\n",
       "10   November            2.4\n",
       "11   December            0.6"
      ]
     },
     "execution_count": 102,
     "metadata": {},
     "output_type": "execute_result"
    }
   ],
   "source": [
    "low_vis = vis.groupby([\"Month\"], as_index = False, sort = False).min()\n",
    "low_vis"
   ]
  },
  {
   "cell_type": "code",
   "execution_count": 103,
   "id": "7c2371d7",
   "metadata": {},
   "outputs": [
    {
     "data": {
      "image/png": "[encoded data removed]",
      "text/plain": [
       "<Figure size 640x480 with 1 Axes>"
      ]
     },
     "metadata": {},
     "output_type": "display_data"
    }
   ],
   "source": [
    "sns.barplot(x = \"Month\", y = \"Visibility_km\", data = low_vis)\n",
    "plt.title(\"Lowest Visibility of a Month for Year 2012\")\n",
    "plt.xlabel(\"Month\")\n",
    "plt.ylabel(\"Visibility (KM)\")\n",
    "plt.xticks(rotation = 90)\n",
    "for i in range(len(low_vis)):\n",
    "    plt.text(i, low_vis[\"Visibility_km\"][i], low_vis[\"Visibility_km\"][i], ha = \"center\", va = \"bottom\")\n",
    "plt.show()"
   ]
  },
  {
   "cell_type": "markdown",
   "id": "3d6a29e6",
   "metadata": {},
   "source": [
    "<br>"
   ]
  },
  {
   "cell_type": "markdown",
   "id": "56a29836",
   "metadata": {},
   "source": [
    "The <b>Barplot</b> shows the <b>Lowest Visibility of a  Month</b> for <b>Year 2012</b>. From the plot, we can see that the <b>Lowest Visibility</b>  for Year 2012 was observed in <b>March</b> which was <b>0.2KM</b>"
   ]
  },
  {
   "cell_type": "markdown",
   "id": "f0774bcc",
   "metadata": {},
   "source": [
    "<br>"
   ]
  },
  {
   "cell_type": "markdown",
   "id": "c1709660",
   "metadata": {},
   "source": [
    "## Line plot of Temperature, Humidity and Visibility"
   ]
  },
  {
   "cell_type": "code",
   "execution_count": 104,
   "id": "17b1fc8f",
   "metadata": {},
   "outputs": [
    {
     "data": {
      "text/html": [
       "<div>\n",
       "<style scoped>\n",
       "    .dataframe tbody tr th:only-of-type {\n",
       "        vertical-align: middle;\n",
       "    }\n",
       "\n",
       "    .dataframe tbody tr th {\n",
       "        vertical-align: top;\n",
       "    }\n",
       "\n",
       "    .dataframe thead th {\n",
       "        text-align: right;\n",
       "    }\n",
       "</style>\n",
       "<table border=\"1\" class=\"dataframe\">\n",
       "  <thead>\n",
       "    <tr style=\"text-align: right;\">\n",
       "      <th></th>\n",
       "      <th>Datetime</th>\n",
       "      <th>Time</th>\n",
       "      <th>Day</th>\n",
       "      <th>Month</th>\n",
       "      <th>Temp_C</th>\n",
       "      <th>Dew Point Temp_C</th>\n",
       "      <th>Rel Hum_%</th>\n",
       "      <th>Wind Speed_km/h</th>\n",
       "      <th>Visibility_km</th>\n",
       "      <th>Press_kPa</th>\n",
       "      <th>Weather</th>\n",
       "    </tr>\n",
       "  </thead>\n",
       "  <tbody>\n",
       "    <tr>\n",
       "      <th>0</th>\n",
       "      <td>2012-01-01 00:00:00</td>\n",
       "      <td>00:00:00</td>\n",
       "      <td>1</td>\n",
       "      <td>January</td>\n",
       "      <td>-1.8</td>\n",
       "      <td>-3.9</td>\n",
       "      <td>86</td>\n",
       "      <td>4</td>\n",
       "      <td>8.0</td>\n",
       "      <td>101.24</td>\n",
       "      <td>Fog</td>\n",
       "    </tr>\n",
       "    <tr>\n",
       "      <th>1</th>\n",
       "      <td>2012-01-01 01:00:00</td>\n",
       "      <td>01:00:00</td>\n",
       "      <td>1</td>\n",
       "      <td>January</td>\n",
       "      <td>-1.8</td>\n",
       "      <td>-3.7</td>\n",
       "      <td>87</td>\n",
       "      <td>4</td>\n",
       "      <td>8.0</td>\n",
       "      <td>101.24</td>\n",
       "      <td>Fog</td>\n",
       "    </tr>\n",
       "  </tbody>\n",
       "</table>\n",
       "</div>"
      ],
      "text/plain": [
       "             Datetime      Time  Day    Month  Temp_C  Dew Point Temp_C   \n",
       "0 2012-01-01 00:00:00  00:00:00    1  January    -1.8              -3.9  \\\n",
       "1 2012-01-01 01:00:00  01:00:00    1  January    -1.8              -3.7   \n",
       "\n",
       "   Rel Hum_%  Wind Speed_km/h  Visibility_km  Press_kPa Weather  \n",
       "0         86                4            8.0     101.24     Fog  \n",
       "1         87                4            8.0     101.24     Fog  "
      ]
     },
     "execution_count": 104,
     "metadata": {},
     "output_type": "execute_result"
    }
   ],
   "source": [
    "df.head(2)"
   ]
  },
  {
   "cell_type": "code",
   "execution_count": 105,
   "id": "30633a8f",
   "metadata": {},
   "outputs": [
    {
     "data": {
      "image/png": "[encoded data removed]",
      "text/plain": [
       "<Figure size 640x480 with 1 Axes>"
      ]
     },
     "metadata": {},
     "output_type": "display_data"
    }
   ],
   "source": [
    "sns.lineplot(x = \"Month\", y = \"Temp_C\", data = df)\n",
    "plt.xticks(rotation = 90)\n",
    "plt.title(\"Line plot of Temperature against Month for 2012\")\n",
    "plt.xlabel(\"Month\")\n",
    "plt.ylabel(\"Temperature (Celcius)\")\n",
    "plt.show()"
   ]
  },
  {
   "cell_type": "code",
   "execution_count": 106,
   "id": "4cbc84ac",
   "metadata": {},
   "outputs": [
    {
     "data": {
      "image/png": "[encoded data removed]",
      "text/plain": [
       "<Figure size 640x480 with 1 Axes>"
      ]
     },
     "metadata": {},
     "output_type": "display_data"
    }
   ],
   "source": [
    "sns.lineplot(x = \"Month\", y = \"Rel Hum_%\", data = df)\n",
    "plt.xticks(rotation = 90)\n",
    "plt.title(\"Line plot of Humidity against Month for 2012\")\n",
    "plt.xlabel(\"Month\")\n",
    "plt.ylabel(\"Relative Humidity (%)\")\n",
    "plt.show()"
   ]
  },
  {
   "cell_type": "code",
   "execution_count": 107,
   "id": "77966a8c",
   "metadata": {},
   "outputs": [
    {
     "data": {
      "image/png": "[encoded data removed]",
      "text/plain": [
       "<Figure size 640x480 with 1 Axes>"
      ]
     },
     "metadata": {},
     "output_type": "display_data"
    }
   ],
   "source": [
    "sns.lineplot(x = \"Month\", y = \"Visibility_km\", data = df)\n",
    "plt.xticks(rotation = 90)\n",
    "plt.title(\"Line plot of Visibility against Month for 2012\")\n",
    "plt.xlabel(\"Month\")\n",
    "plt.ylabel(\"Visibility (KM)\")\n",
    "plt.show()"
   ]
  },
  {
   "cell_type": "markdown",
   "id": "ec665199",
   "metadata": {},
   "source": [
    "## Weather Conditions when visibility is High:"
   ]
  },
  {
   "cell_type": "code",
   "execution_count": 108,
   "id": "ecb495da",
   "metadata": {},
   "outputs": [
    {
     "data": {
      "text/html": [
       "<div>\n",
       "<style scoped>\n",
       "    .dataframe tbody tr th:only-of-type {\n",
       "        vertical-align: middle;\n",
       "    }\n",
       "\n",
       "    .dataframe tbody tr th {\n",
       "        vertical-align: top;\n",
       "    }\n",
       "\n",
       "    .dataframe thead th {\n",
       "        text-align: right;\n",
       "    }\n",
       "</style>\n",
       "<table border=\"1\" class=\"dataframe\">\n",
       "  <thead>\n",
       "    <tr style=\"text-align: right;\">\n",
       "      <th></th>\n",
       "      <th>Datetime</th>\n",
       "      <th>Time</th>\n",
       "      <th>Day</th>\n",
       "      <th>Month</th>\n",
       "      <th>Temp_C</th>\n",
       "      <th>Dew Point Temp_C</th>\n",
       "      <th>Rel Hum_%</th>\n",
       "      <th>Wind Speed_km/h</th>\n",
       "      <th>Visibility_km</th>\n",
       "      <th>Press_kPa</th>\n",
       "      <th>Weather</th>\n",
       "    </tr>\n",
       "  </thead>\n",
       "  <tbody>\n",
       "    <tr>\n",
       "      <th>0</th>\n",
       "      <td>2012-01-01 00:00:00</td>\n",
       "      <td>00:00:00</td>\n",
       "      <td>1</td>\n",
       "      <td>January</td>\n",
       "      <td>-1.8</td>\n",
       "      <td>-3.9</td>\n",
       "      <td>86</td>\n",
       "      <td>4</td>\n",
       "      <td>8.0</td>\n",
       "      <td>101.24</td>\n",
       "      <td>Fog</td>\n",
       "    </tr>\n",
       "    <tr>\n",
       "      <th>1</th>\n",
       "      <td>2012-01-01 01:00:00</td>\n",
       "      <td>01:00:00</td>\n",
       "      <td>1</td>\n",
       "      <td>January</td>\n",
       "      <td>-1.8</td>\n",
       "      <td>-3.7</td>\n",
       "      <td>87</td>\n",
       "      <td>4</td>\n",
       "      <td>8.0</td>\n",
       "      <td>101.24</td>\n",
       "      <td>Fog</td>\n",
       "    </tr>\n",
       "  </tbody>\n",
       "</table>\n",
       "</div>"
      ],
      "text/plain": [
       "             Datetime      Time  Day    Month  Temp_C  Dew Point Temp_C   \n",
       "0 2012-01-01 00:00:00  00:00:00    1  January    -1.8              -3.9  \\\n",
       "1 2012-01-01 01:00:00  01:00:00    1  January    -1.8              -3.7   \n",
       "\n",
       "   Rel Hum_%  Wind Speed_km/h  Visibility_km  Press_kPa Weather  \n",
       "0         86                4            8.0     101.24     Fog  \n",
       "1         87                4            8.0     101.24     Fog  "
      ]
     },
     "execution_count": 108,
     "metadata": {},
     "output_type": "execute_result"
    }
   ],
   "source": [
    "df.head(2)"
   ]
  },
  {
   "cell_type": "code",
   "execution_count": 109,
   "id": "2c43d2b0",
   "metadata": {},
   "outputs": [
    {
     "data": {
      "text/html": [
       "<div>\n",
       "<style scoped>\n",
       "    .dataframe tbody tr th:only-of-type {\n",
       "        vertical-align: middle;\n",
       "    }\n",
       "\n",
       "    .dataframe tbody tr th {\n",
       "        vertical-align: top;\n",
       "    }\n",
       "\n",
       "    .dataframe thead th {\n",
       "        text-align: right;\n",
       "    }\n",
       "</style>\n",
       "<table border=\"1\" class=\"dataframe\">\n",
       "  <thead>\n",
       "    <tr style=\"text-align: right;\">\n",
       "      <th></th>\n",
       "      <th>Weather</th>\n",
       "      <th>Visibility_km</th>\n",
       "    </tr>\n",
       "  </thead>\n",
       "  <tbody>\n",
       "    <tr>\n",
       "      <th>0</th>\n",
       "      <td>Fog</td>\n",
       "      <td>9.7</td>\n",
       "    </tr>\n",
       "    <tr>\n",
       "      <th>1</th>\n",
       "      <td>Freezing Drizzle,Fog</td>\n",
       "      <td>8.0</td>\n",
       "    </tr>\n",
       "    <tr>\n",
       "      <th>2</th>\n",
       "      <td>Mostly Cloudy</td>\n",
       "      <td>48.3</td>\n",
       "    </tr>\n",
       "    <tr>\n",
       "      <th>3</th>\n",
       "      <td>Cloudy</td>\n",
       "      <td>48.3</td>\n",
       "    </tr>\n",
       "    <tr>\n",
       "      <th>4</th>\n",
       "      <td>Rain</td>\n",
       "      <td>48.3</td>\n",
       "    </tr>\n",
       "    <tr>\n",
       "      <th>5</th>\n",
       "      <td>Rain Showers</td>\n",
       "      <td>48.3</td>\n",
       "    </tr>\n",
       "    <tr>\n",
       "      <th>6</th>\n",
       "      <td>Mainly Clear</td>\n",
       "      <td>48.3</td>\n",
       "    </tr>\n",
       "    <tr>\n",
       "      <th>7</th>\n",
       "      <td>Snow Showers</td>\n",
       "      <td>48.3</td>\n",
       "    </tr>\n",
       "    <tr>\n",
       "      <th>8</th>\n",
       "      <td>Snow</td>\n",
       "      <td>25.0</td>\n",
       "    </tr>\n",
       "    <tr>\n",
       "      <th>9</th>\n",
       "      <td>Clear</td>\n",
       "      <td>48.3</td>\n",
       "    </tr>\n",
       "    <tr>\n",
       "      <th>10</th>\n",
       "      <td>Freezing Rain,Fog</td>\n",
       "      <td>9.7</td>\n",
       "    </tr>\n",
       "    <tr>\n",
       "      <th>11</th>\n",
       "      <td>Freezing Rain</td>\n",
       "      <td>16.1</td>\n",
       "    </tr>\n",
       "    <tr>\n",
       "      <th>12</th>\n",
       "      <td>Freezing Drizzle</td>\n",
       "      <td>12.9</td>\n",
       "    </tr>\n",
       "    <tr>\n",
       "      <th>13</th>\n",
       "      <td>Rain,Snow</td>\n",
       "      <td>25.0</td>\n",
       "    </tr>\n",
       "    <tr>\n",
       "      <th>14</th>\n",
       "      <td>Moderate Snow</td>\n",
       "      <td>0.8</td>\n",
       "    </tr>\n",
       "  </tbody>\n",
       "</table>\n",
       "</div>"
      ],
      "text/plain": [
       "                 Weather  Visibility_km\n",
       "0                    Fog            9.7\n",
       "1   Freezing Drizzle,Fog            8.0\n",
       "2          Mostly Cloudy           48.3\n",
       "3                 Cloudy           48.3\n",
       "4                   Rain           48.3\n",
       "5           Rain Showers           48.3\n",
       "6           Mainly Clear           48.3\n",
       "7           Snow Showers           48.3\n",
       "8                   Snow           25.0\n",
       "9                  Clear           48.3\n",
       "10     Freezing Rain,Fog            9.7\n",
       "11         Freezing Rain           16.1\n",
       "12      Freezing Drizzle           12.9\n",
       "13             Rain,Snow           25.0\n",
       "14         Moderate Snow            0.8"
      ]
     },
     "execution_count": 109,
     "metadata": {},
     "output_type": "execute_result"
    }
   ],
   "source": [
    "weath = df[[\"Weather\", \"Visibility_km\"]]\n",
    "weath_vis = weath.groupby([\"Weather\"], as_index = False, sort = False).max()\n",
    "weath_vis.head(15)"
   ]
  },
  {
   "cell_type": "code",
   "execution_count": 110,
   "id": "b50960c7",
   "metadata": {},
   "outputs": [
    {
     "data": {
      "text/html": [
       "<div>\n",
       "<style scoped>\n",
       "    .dataframe tbody tr th:only-of-type {\n",
       "        vertical-align: middle;\n",
       "    }\n",
       "\n",
       "    .dataframe tbody tr th {\n",
       "        vertical-align: top;\n",
       "    }\n",
       "\n",
       "    .dataframe thead th {\n",
       "        text-align: right;\n",
       "    }\n",
       "</style>\n",
       "<table border=\"1\" class=\"dataframe\">\n",
       "  <thead>\n",
       "    <tr style=\"text-align: right;\">\n",
       "      <th></th>\n",
       "      <th>Weather</th>\n",
       "      <th>Visibility_km</th>\n",
       "    </tr>\n",
       "  </thead>\n",
       "  <tbody>\n",
       "    <tr>\n",
       "      <th>2</th>\n",
       "      <td>Mostly Cloudy</td>\n",
       "      <td>48.3</td>\n",
       "    </tr>\n",
       "    <tr>\n",
       "      <th>3</th>\n",
       "      <td>Cloudy</td>\n",
       "      <td>48.3</td>\n",
       "    </tr>\n",
       "    <tr>\n",
       "      <th>4</th>\n",
       "      <td>Rain</td>\n",
       "      <td>48.3</td>\n",
       "    </tr>\n",
       "    <tr>\n",
       "      <th>5</th>\n",
       "      <td>Rain Showers</td>\n",
       "      <td>48.3</td>\n",
       "    </tr>\n",
       "    <tr>\n",
       "      <th>6</th>\n",
       "      <td>Mainly Clear</td>\n",
       "      <td>48.3</td>\n",
       "    </tr>\n",
       "    <tr>\n",
       "      <th>7</th>\n",
       "      <td>Snow Showers</td>\n",
       "      <td>48.3</td>\n",
       "    </tr>\n",
       "    <tr>\n",
       "      <th>9</th>\n",
       "      <td>Clear</td>\n",
       "      <td>48.3</td>\n",
       "    </tr>\n",
       "    <tr>\n",
       "      <th>46</th>\n",
       "      <td>Rain,Snow Grains</td>\n",
       "      <td>25.0</td>\n",
       "    </tr>\n",
       "    <tr>\n",
       "      <th>30</th>\n",
       "      <td>Thunderstorms,Rain Showers</td>\n",
       "      <td>25.0</td>\n",
       "    </tr>\n",
       "    <tr>\n",
       "      <th>8</th>\n",
       "      <td>Snow</td>\n",
       "      <td>25.0</td>\n",
       "    </tr>\n",
       "  </tbody>\n",
       "</table>\n",
       "</div>"
      ],
      "text/plain": [
       "                       Weather  Visibility_km\n",
       "2                Mostly Cloudy           48.3\n",
       "3                       Cloudy           48.3\n",
       "4                         Rain           48.3\n",
       "5                 Rain Showers           48.3\n",
       "6                 Mainly Clear           48.3\n",
       "7                 Snow Showers           48.3\n",
       "9                        Clear           48.3\n",
       "46            Rain,Snow Grains           25.0\n",
       "30  Thunderstorms,Rain Showers           25.0\n",
       "8                         Snow           25.0"
      ]
     },
     "execution_count": 110,
     "metadata": {},
     "output_type": "execute_result"
    }
   ],
   "source": [
    "high_weath_vis = weath_vis.sort_values(by = \"Visibility_km\", ascending=False).head(10)\n",
    "high_weath_vis"
   ]
  },
  {
   "cell_type": "code",
   "execution_count": 111,
   "id": "6272d8c0",
   "metadata": {},
   "outputs": [
    {
     "data": {
      "text/plain": [
       "['Mostly Cloudy',\n",
       " 'Cloudy',\n",
       " 'Rain',\n",
       " 'Rain Showers',\n",
       " 'Mainly Clear',\n",
       " 'Snow Showers',\n",
       " 'Clear',\n",
       " 'Rain,Snow Grains',\n",
       " 'Thunderstorms,Rain Showers',\n",
       " 'Snow']"
      ]
     },
     "execution_count": 111,
     "metadata": {},
     "output_type": "execute_result"
    }
   ],
   "source": [
    "Weather = high_weath_vis[\"Weather\"].tolist()\n",
    "Weather"
   ]
  },
  {
   "cell_type": "code",
   "execution_count": 112,
   "id": "58761ff6",
   "metadata": {},
   "outputs": [
    {
     "data": {
      "text/plain": [
       "[48.3, 48.3, 48.3, 48.3, 48.3, 48.3, 48.3, 25.0, 25.0, 25.0]"
      ]
     },
     "execution_count": 112,
     "metadata": {},
     "output_type": "execute_result"
    }
   ],
   "source": [
    "Visibility = high_weath_vis[\"Visibility_km\"].tolist()\n",
    "Visibility"
   ]
  },
  {
   "cell_type": "code",
   "execution_count": 113,
   "id": "0e5a94b7",
   "metadata": {},
   "outputs": [],
   "source": [
    "weather_high_vis = pd.DataFrame({\n",
    "    \"Weather Condition\":Weather,\n",
    "    \"Visibility\":Visibility\n",
    "})"
   ]
  },
  {
   "cell_type": "code",
   "execution_count": 114,
   "id": "e9171208",
   "metadata": {},
   "outputs": [
    {
     "data": {
      "text/html": [
       "<div>\n",
       "<style scoped>\n",
       "    .dataframe tbody tr th:only-of-type {\n",
       "        vertical-align: middle;\n",
       "    }\n",
       "\n",
       "    .dataframe tbody tr th {\n",
       "        vertical-align: top;\n",
       "    }\n",
       "\n",
       "    .dataframe thead th {\n",
       "        text-align: right;\n",
       "    }\n",
       "</style>\n",
       "<table border=\"1\" class=\"dataframe\">\n",
       "  <thead>\n",
       "    <tr style=\"text-align: right;\">\n",
       "      <th></th>\n",
       "      <th>Weather Condition</th>\n",
       "      <th>Visibility</th>\n",
       "    </tr>\n",
       "  </thead>\n",
       "  <tbody>\n",
       "    <tr>\n",
       "      <th>0</th>\n",
       "      <td>Mostly Cloudy</td>\n",
       "      <td>48.3</td>\n",
       "    </tr>\n",
       "    <tr>\n",
       "      <th>1</th>\n",
       "      <td>Cloudy</td>\n",
       "      <td>48.3</td>\n",
       "    </tr>\n",
       "    <tr>\n",
       "      <th>2</th>\n",
       "      <td>Rain</td>\n",
       "      <td>48.3</td>\n",
       "    </tr>\n",
       "    <tr>\n",
       "      <th>3</th>\n",
       "      <td>Rain Showers</td>\n",
       "      <td>48.3</td>\n",
       "    </tr>\n",
       "    <tr>\n",
       "      <th>4</th>\n",
       "      <td>Mainly Clear</td>\n",
       "      <td>48.3</td>\n",
       "    </tr>\n",
       "    <tr>\n",
       "      <th>5</th>\n",
       "      <td>Snow Showers</td>\n",
       "      <td>48.3</td>\n",
       "    </tr>\n",
       "    <tr>\n",
       "      <th>6</th>\n",
       "      <td>Clear</td>\n",
       "      <td>48.3</td>\n",
       "    </tr>\n",
       "    <tr>\n",
       "      <th>7</th>\n",
       "      <td>Rain,Snow Grains</td>\n",
       "      <td>25.0</td>\n",
       "    </tr>\n",
       "    <tr>\n",
       "      <th>8</th>\n",
       "      <td>Thunderstorms,Rain Showers</td>\n",
       "      <td>25.0</td>\n",
       "    </tr>\n",
       "    <tr>\n",
       "      <th>9</th>\n",
       "      <td>Snow</td>\n",
       "      <td>25.0</td>\n",
       "    </tr>\n",
       "  </tbody>\n",
       "</table>\n",
       "</div>"
      ],
      "text/plain": [
       "            Weather Condition  Visibility\n",
       "0               Mostly Cloudy        48.3\n",
       "1                      Cloudy        48.3\n",
       "2                        Rain        48.3\n",
       "3                Rain Showers        48.3\n",
       "4                Mainly Clear        48.3\n",
       "5                Snow Showers        48.3\n",
       "6                       Clear        48.3\n",
       "7            Rain,Snow Grains        25.0\n",
       "8  Thunderstorms,Rain Showers        25.0\n",
       "9                        Snow        25.0"
      ]
     },
     "execution_count": 114,
     "metadata": {},
     "output_type": "execute_result"
    }
   ],
   "source": [
    "weather_high_vis"
   ]
  },
  {
   "cell_type": "code",
   "execution_count": 115,
   "id": "4401f681",
   "metadata": {},
   "outputs": [
    {
     "data": {
      "image/png": "[encoded data removed]",
      "text/plain": [
       "<Figure size 640x480 with 1 Axes>"
      ]
     },
     "metadata": {},
     "output_type": "display_data"
    }
   ],
   "source": [
    "sns.barplot(x = \"Weather Condition\", y = \"Visibility\", data = weather_high_vis)\n",
    "plt.title(\"Weather Conditions when Visibility is High\")\n",
    "plt.xticks(rotation = 90)\n",
    "plt.ylabel(\"Visibility (KM)\")\n",
    "for i in range(len(weather_high_vis)):\n",
    "    plt.text(i, weather_high_vis[\"Visibility\"][i], weather_high_vis[\"Visibility\"][i], ha = \"center\", va = \"bottom\")\n",
    "plt.show()"
   ]
  },
  {
   "cell_type": "markdown",
   "id": "341a50fc",
   "metadata": {},
   "source": [
    "## Best Months for Agriculture:"
   ]
  },
  {
   "cell_type": "code",
   "execution_count": 116,
   "id": "f348bdd4",
   "metadata": {},
   "outputs": [
    {
     "data": {
      "text/plain": [
       "Index(['Datetime', 'Time', 'Day', 'Month', 'Temp_C', 'Dew Point Temp_C',\n",
       "       'Rel Hum_%', 'Wind Speed_km/h', 'Visibility_km', 'Press_kPa',\n",
       "       'Weather'],\n",
       "      dtype='object')"
      ]
     },
     "execution_count": 116,
     "metadata": {},
     "output_type": "execute_result"
    }
   ],
   "source": [
    "df.columns"
   ]
  },
  {
   "cell_type": "code",
   "execution_count": 117,
   "id": "33f0aa39",
   "metadata": {},
   "outputs": [
    {
     "data": {
      "text/html": [
       "<div>\n",
       "<style scoped>\n",
       "    .dataframe tbody tr th:only-of-type {\n",
       "        vertical-align: middle;\n",
       "    }\n",
       "\n",
       "    .dataframe tbody tr th {\n",
       "        vertical-align: top;\n",
       "    }\n",
       "\n",
       "    .dataframe thead th {\n",
       "        text-align: right;\n",
       "    }\n",
       "</style>\n",
       "<table border=\"1\" class=\"dataframe\">\n",
       "  <thead>\n",
       "    <tr style=\"text-align: right;\">\n",
       "      <th></th>\n",
       "      <th>Month</th>\n",
       "      <th>Temp_C</th>\n",
       "      <th>Dew Point Temp_C</th>\n",
       "      <th>Rel Hum_%</th>\n",
       "      <th>Wind Speed_km/h</th>\n",
       "      <th>Visibility_km</th>\n",
       "      <th>Press_kPa</th>\n",
       "    </tr>\n",
       "  </thead>\n",
       "  <tbody>\n",
       "    <tr>\n",
       "      <th>0</th>\n",
       "      <td>January</td>\n",
       "      <td>-7.371505</td>\n",
       "      <td>-12.294758</td>\n",
       "      <td>68.383065</td>\n",
       "      <td>18.108871</td>\n",
       "      <td>22.100269</td>\n",
       "      <td>101.005349</td>\n",
       "    </tr>\n",
       "    <tr>\n",
       "      <th>1</th>\n",
       "      <td>February</td>\n",
       "      <td>-4.225000</td>\n",
       "      <td>-9.221695</td>\n",
       "      <td>68.956897</td>\n",
       "      <td>14.837644</td>\n",
       "      <td>25.182184</td>\n",
       "      <td>101.142414</td>\n",
       "    </tr>\n",
       "    <tr>\n",
       "      <th>2</th>\n",
       "      <td>March</td>\n",
       "      <td>3.121237</td>\n",
       "      <td>-3.488575</td>\n",
       "      <td>64.862903</td>\n",
       "      <td>14.514785</td>\n",
       "      <td>26.177957</td>\n",
       "      <td>101.335255</td>\n",
       "    </tr>\n",
       "    <tr>\n",
       "      <th>3</th>\n",
       "      <td>April</td>\n",
       "      <td>7.009306</td>\n",
       "      <td>-1.934583</td>\n",
       "      <td>56.150000</td>\n",
       "      <td>17.369444</td>\n",
       "      <td>31.777083</td>\n",
       "      <td>100.716833</td>\n",
       "    </tr>\n",
       "    <tr>\n",
       "      <th>4</th>\n",
       "      <td>May</td>\n",
       "      <td>16.237769</td>\n",
       "      <td>8.080780</td>\n",
       "      <td>61.760753</td>\n",
       "      <td>12.846774</td>\n",
       "      <td>29.418548</td>\n",
       "      <td>101.057164</td>\n",
       "    </tr>\n",
       "    <tr>\n",
       "      <th>5</th>\n",
       "      <td>June</td>\n",
       "      <td>20.134028</td>\n",
       "      <td>11.738056</td>\n",
       "      <td>60.643056</td>\n",
       "      <td>14.681944</td>\n",
       "      <td>32.104167</td>\n",
       "      <td>100.784222</td>\n",
       "    </tr>\n",
       "    <tr>\n",
       "      <th>6</th>\n",
       "      <td>July</td>\n",
       "      <td>22.790054</td>\n",
       "      <td>14.595430</td>\n",
       "      <td>62.017473</td>\n",
       "      <td>11.887097</td>\n",
       "      <td>33.655108</td>\n",
       "      <td>100.828333</td>\n",
       "    </tr>\n",
       "    <tr>\n",
       "      <th>7</th>\n",
       "      <td>August</td>\n",
       "      <td>22.279301</td>\n",
       "      <td>15.644758</td>\n",
       "      <td>67.943548</td>\n",
       "      <td>13.931452</td>\n",
       "      <td>30.192608</td>\n",
       "      <td>100.927097</td>\n",
       "    </tr>\n",
       "    <tr>\n",
       "      <th>8</th>\n",
       "      <td>September</td>\n",
       "      <td>16.484444</td>\n",
       "      <td>10.757917</td>\n",
       "      <td>71.165278</td>\n",
       "      <td>14.108333</td>\n",
       "      <td>30.603472</td>\n",
       "      <td>101.087903</td>\n",
       "    </tr>\n",
       "    <tr>\n",
       "      <th>9</th>\n",
       "      <td>October</td>\n",
       "      <td>10.954973</td>\n",
       "      <td>6.533468</td>\n",
       "      <td>75.731183</td>\n",
       "      <td>15.475806</td>\n",
       "      <td>25.111022</td>\n",
       "      <td>100.909368</td>\n",
       "    </tr>\n",
       "    <tr>\n",
       "      <th>10</th>\n",
       "      <td>November</td>\n",
       "      <td>0.931389</td>\n",
       "      <td>-4.179306</td>\n",
       "      <td>69.984722</td>\n",
       "      <td>13.973611</td>\n",
       "      <td>26.077083</td>\n",
       "      <td>101.658306</td>\n",
       "    </tr>\n",
       "    <tr>\n",
       "      <th>11</th>\n",
       "      <td>December</td>\n",
       "      <td>-3.306317</td>\n",
       "      <td>-6.129032</td>\n",
       "      <td>81.299731</td>\n",
       "      <td>17.614247</td>\n",
       "      <td>19.733199</td>\n",
       "      <td>101.174409</td>\n",
       "    </tr>\n",
       "  </tbody>\n",
       "</table>\n",
       "</div>"
      ],
      "text/plain": [
       "        Month     Temp_C  Dew Point Temp_C  Rel Hum_%  Wind Speed_km/h   \n",
       "0     January  -7.371505        -12.294758  68.383065        18.108871  \\\n",
       "1    February  -4.225000         -9.221695  68.956897        14.837644   \n",
       "2       March   3.121237         -3.488575  64.862903        14.514785   \n",
       "3       April   7.009306         -1.934583  56.150000        17.369444   \n",
       "4         May  16.237769          8.080780  61.760753        12.846774   \n",
       "5        June  20.134028         11.738056  60.643056        14.681944   \n",
       "6        July  22.790054         14.595430  62.017473        11.887097   \n",
       "7      August  22.279301         15.644758  67.943548        13.931452   \n",
       "8   September  16.484444         10.757917  71.165278        14.108333   \n",
       "9     October  10.954973          6.533468  75.731183        15.475806   \n",
       "10   November   0.931389         -4.179306  69.984722        13.973611   \n",
       "11   December  -3.306317         -6.129032  81.299731        17.614247   \n",
       "\n",
       "    Visibility_km   Press_kPa  \n",
       "0       22.100269  101.005349  \n",
       "1       25.182184  101.142414  \n",
       "2       26.177957  101.335255  \n",
       "3       31.777083  100.716833  \n",
       "4       29.418548  101.057164  \n",
       "5       32.104167  100.784222  \n",
       "6       33.655108  100.828333  \n",
       "7       30.192608  100.927097  \n",
       "8       30.603472  101.087903  \n",
       "9       25.111022  100.909368  \n",
       "10      26.077083  101.658306  \n",
       "11      19.733199  101.174409  "
      ]
     },
     "execution_count": 117,
     "metadata": {},
     "output_type": "execute_result"
    }
   ],
   "source": [
    "weth = df[[\"Month\", 'Temp_C', 'Dew Point Temp_C',\n",
    "       'Rel Hum_%', 'Wind Speed_km/h', 'Visibility_km', 'Press_kPa']]\n",
    "best_weather = weth.groupby([\"Month\"], as_index= False, sort = False).mean()\n",
    "best_weather"
   ]
  },
  {
   "cell_type": "markdown",
   "id": "bf268eb5",
   "metadata": {},
   "source": [
    "<br>\n",
    "Based on the data table, the best months for agriculture are <b>June, July, and August</b>. This is because these months have the following ideal conditions for agriculture:\n",
    "\n",
    "<b>High temperature:</b> Crops need <b>warm temperatures</b> to grow. The average temperatures in <b>June, July, and August</b> are <b>20.1°C, 22.8°C, and 22.3°C</b>, respectively.\n",
    "\n",
    "<b>High dew point temperature:</b> Dew point temperature is the temperature at which water vapor in the air condenses to form dew. <b>High dew point temperatures</b> indicate that there is a lot of moisture in the air, which is beneficial for crops. The average dew point temperatures in <b>June, July, and August</b> are <b>11.8°C, 14.6°C, and 15.6°C</b>, respectively.\n",
    "\n",
    "<b>High relative humidity:</b> Relative humidity is the amount of water vapor in the air compared to the maximum amount of water vapor that the air can hold at a given temperature. <b>High relative humidity</b> indicates that there is a lot of moisture in the air, which is beneficial for crops. The average relative humidity in <b>June, July, and August</b> are <b>60.6%, 62%, and 67.9%</b>, respectively.\n",
    "\n",
    "<b>Low wind speed:</b> Wind can dry out crops and blow them over. The average wind speed in <b>June, July, and August</b> are <b>14.68 km/h, 11.88 km/h, and 13.93 km/h</b>, respectively.\n",
    "\n",
    "<b>Good visibility:</b> <b>Good visibility</b> is important for farmers to be able to see their crops and machinery. The average visibility in <b><b>June, July, and August</b> are <b>32.1 km, 33.6 km, and 30.2 km</b>, respectively.\n",
    "\n",
    "<b>Moderate air pressure:</b> Air pressure affects the rate of plant growth. <b>Moderate air pressure</b> is ideal for plant growth. The average air pressure in <b>June, July, and August</b> are <b>100.78 kPa, 100.82 kPa, and 100.92 kPa</b>, respectively.\n",
    "\n",
    "Therefore, based on the data table, the best months for agriculture are <b>June, July, and August</b>.\n",
    "\n",
    "<br>\n",
    "    "
   ]
  },
  {
   "cell_type": "markdown",
   "id": "0f8e6330",
   "metadata": {},
   "source": [
    "## Times When Visibility is Max:"
   ]
  },
  {
   "cell_type": "code",
   "execution_count": 118,
   "id": "08c75ff8",
   "metadata": {},
   "outputs": [
    {
     "data": {
      "text/html": [
       "<div>\n",
       "<style scoped>\n",
       "    .dataframe tbody tr th:only-of-type {\n",
       "        vertical-align: middle;\n",
       "    }\n",
       "\n",
       "    .dataframe tbody tr th {\n",
       "        vertical-align: top;\n",
       "    }\n",
       "\n",
       "    .dataframe thead th {\n",
       "        text-align: right;\n",
       "    }\n",
       "</style>\n",
       "<table border=\"1\" class=\"dataframe\">\n",
       "  <thead>\n",
       "    <tr style=\"text-align: right;\">\n",
       "      <th></th>\n",
       "      <th>Datetime</th>\n",
       "      <th>Time</th>\n",
       "      <th>Day</th>\n",
       "      <th>Month</th>\n",
       "      <th>Temp_C</th>\n",
       "      <th>Dew Point Temp_C</th>\n",
       "      <th>Rel Hum_%</th>\n",
       "      <th>Wind Speed_km/h</th>\n",
       "      <th>Visibility_km</th>\n",
       "      <th>Press_kPa</th>\n",
       "      <th>Weather</th>\n",
       "    </tr>\n",
       "  </thead>\n",
       "  <tbody>\n",
       "    <tr>\n",
       "      <th>0</th>\n",
       "      <td>2012-01-01 00:00:00</td>\n",
       "      <td>00:00:00</td>\n",
       "      <td>1</td>\n",
       "      <td>January</td>\n",
       "      <td>-1.8</td>\n",
       "      <td>-3.9</td>\n",
       "      <td>86</td>\n",
       "      <td>4</td>\n",
       "      <td>8.0</td>\n",
       "      <td>101.24</td>\n",
       "      <td>Fog</td>\n",
       "    </tr>\n",
       "    <tr>\n",
       "      <th>1</th>\n",
       "      <td>2012-01-01 01:00:00</td>\n",
       "      <td>01:00:00</td>\n",
       "      <td>1</td>\n",
       "      <td>January</td>\n",
       "      <td>-1.8</td>\n",
       "      <td>-3.7</td>\n",
       "      <td>87</td>\n",
       "      <td>4</td>\n",
       "      <td>8.0</td>\n",
       "      <td>101.24</td>\n",
       "      <td>Fog</td>\n",
       "    </tr>\n",
       "  </tbody>\n",
       "</table>\n",
       "</div>"
      ],
      "text/plain": [
       "             Datetime      Time  Day    Month  Temp_C  Dew Point Temp_C   \n",
       "0 2012-01-01 00:00:00  00:00:00    1  January    -1.8              -3.9  \\\n",
       "1 2012-01-01 01:00:00  01:00:00    1  January    -1.8              -3.7   \n",
       "\n",
       "   Rel Hum_%  Wind Speed_km/h  Visibility_km  Press_kPa Weather  \n",
       "0         86                4            8.0     101.24     Fog  \n",
       "1         87                4            8.0     101.24     Fog  "
      ]
     },
     "execution_count": 118,
     "metadata": {},
     "output_type": "execute_result"
    }
   ],
   "source": [
    "df.head(2)"
   ]
  },
  {
   "cell_type": "code",
   "execution_count": 119,
   "id": "56b68da0",
   "metadata": {},
   "outputs": [],
   "source": [
    "df2 = df.loc[df[\"Visibility_km\"]==df[\"Visibility_km\"].max()]"
   ]
  },
  {
   "cell_type": "code",
   "execution_count": 120,
   "id": "9e435539",
   "metadata": {},
   "outputs": [
    {
     "data": {
      "text/html": [
       "<div>\n",
       "<style scoped>\n",
       "    .dataframe tbody tr th:only-of-type {\n",
       "        vertical-align: middle;\n",
       "    }\n",
       "\n",
       "    .dataframe tbody tr th {\n",
       "        vertical-align: top;\n",
       "    }\n",
       "\n",
       "    .dataframe thead th {\n",
       "        text-align: right;\n",
       "    }\n",
       "</style>\n",
       "<table border=\"1\" class=\"dataframe\">\n",
       "  <thead>\n",
       "    <tr style=\"text-align: right;\">\n",
       "      <th></th>\n",
       "      <th>Datetime</th>\n",
       "      <th>Time</th>\n",
       "      <th>Day</th>\n",
       "      <th>Month</th>\n",
       "      <th>Temp_C</th>\n",
       "      <th>Dew Point Temp_C</th>\n",
       "      <th>Rel Hum_%</th>\n",
       "      <th>Wind Speed_km/h</th>\n",
       "      <th>Visibility_km</th>\n",
       "      <th>Press_kPa</th>\n",
       "      <th>Weather</th>\n",
       "    </tr>\n",
       "  </thead>\n",
       "  <tbody>\n",
       "    <tr>\n",
       "      <th>4528</th>\n",
       "      <td>2012-07-07 16:00:00</td>\n",
       "      <td>16:00:00</td>\n",
       "      <td>7</td>\n",
       "      <td>July</td>\n",
       "      <td>29.1</td>\n",
       "      <td>15.7</td>\n",
       "      <td>44</td>\n",
       "      <td>17</td>\n",
       "      <td>48.3</td>\n",
       "      <td>100.28</td>\n",
       "      <td>Mostly Cloudy</td>\n",
       "    </tr>\n",
       "    <tr>\n",
       "      <th>5795</th>\n",
       "      <td>2012-08-29 11:00:00</td>\n",
       "      <td>11:00:00</td>\n",
       "      <td>29</td>\n",
       "      <td>August</td>\n",
       "      <td>21.9</td>\n",
       "      <td>8.5</td>\n",
       "      <td>42</td>\n",
       "      <td>22</td>\n",
       "      <td>48.3</td>\n",
       "      <td>101.07</td>\n",
       "      <td>Clear</td>\n",
       "    </tr>\n",
       "    <tr>\n",
       "      <th>7932</th>\n",
       "      <td>2012-11-26 12:00:00</td>\n",
       "      <td>12:00:00</td>\n",
       "      <td>26</td>\n",
       "      <td>November</td>\n",
       "      <td>-1.3</td>\n",
       "      <td>-10.6</td>\n",
       "      <td>49</td>\n",
       "      <td>24</td>\n",
       "      <td>48.3</td>\n",
       "      <td>101.33</td>\n",
       "      <td>Mainly Clear</td>\n",
       "    </tr>\n",
       "    <tr>\n",
       "      <th>4171</th>\n",
       "      <td>2012-06-22 19:00:00</td>\n",
       "      <td>19:00:00</td>\n",
       "      <td>22</td>\n",
       "      <td>June</td>\n",
       "      <td>25.7</td>\n",
       "      <td>11.7</td>\n",
       "      <td>42</td>\n",
       "      <td>11</td>\n",
       "      <td>48.3</td>\n",
       "      <td>100.38</td>\n",
       "      <td>Mostly Cloudy</td>\n",
       "    </tr>\n",
       "    <tr>\n",
       "      <th>6732</th>\n",
       "      <td>2012-10-07 12:00:00</td>\n",
       "      <td>12:00:00</td>\n",
       "      <td>7</td>\n",
       "      <td>October</td>\n",
       "      <td>9.2</td>\n",
       "      <td>0.6</td>\n",
       "      <td>55</td>\n",
       "      <td>22</td>\n",
       "      <td>48.3</td>\n",
       "      <td>101.36</td>\n",
       "      <td>Mostly Cloudy</td>\n",
       "    </tr>\n",
       "    <tr>\n",
       "      <th>3392</th>\n",
       "      <td>2012-05-21 08:00:00</td>\n",
       "      <td>08:00:00</td>\n",
       "      <td>21</td>\n",
       "      <td>May</td>\n",
       "      <td>24.0</td>\n",
       "      <td>11.1</td>\n",
       "      <td>44</td>\n",
       "      <td>19</td>\n",
       "      <td>48.3</td>\n",
       "      <td>101.69</td>\n",
       "      <td>Mostly Cloudy</td>\n",
       "    </tr>\n",
       "    <tr>\n",
       "      <th>2004</th>\n",
       "      <td>2012-03-24 12:00:00</td>\n",
       "      <td>12:00:00</td>\n",
       "      <td>24</td>\n",
       "      <td>March</td>\n",
       "      <td>4.8</td>\n",
       "      <td>-10.3</td>\n",
       "      <td>33</td>\n",
       "      <td>19</td>\n",
       "      <td>48.3</td>\n",
       "      <td>101.80</td>\n",
       "      <td>Cloudy</td>\n",
       "    </tr>\n",
       "    <tr>\n",
       "      <th>3015</th>\n",
       "      <td>2012-05-05 15:00:00</td>\n",
       "      <td>15:00:00</td>\n",
       "      <td>5</td>\n",
       "      <td>May</td>\n",
       "      <td>15.4</td>\n",
       "      <td>-1.0</td>\n",
       "      <td>32</td>\n",
       "      <td>6</td>\n",
       "      <td>48.3</td>\n",
       "      <td>101.55</td>\n",
       "      <td>Mainly Clear</td>\n",
       "    </tr>\n",
       "    <tr>\n",
       "      <th>2586</th>\n",
       "      <td>2012-04-17 18:00:00</td>\n",
       "      <td>18:00:00</td>\n",
       "      <td>17</td>\n",
       "      <td>April</td>\n",
       "      <td>9.5</td>\n",
       "      <td>-2.8</td>\n",
       "      <td>42</td>\n",
       "      <td>24</td>\n",
       "      <td>48.3</td>\n",
       "      <td>101.79</td>\n",
       "      <td>Mostly Cloudy</td>\n",
       "    </tr>\n",
       "    <tr>\n",
       "      <th>4645</th>\n",
       "      <td>2012-07-12 13:00:00</td>\n",
       "      <td>13:00:00</td>\n",
       "      <td>12</td>\n",
       "      <td>July</td>\n",
       "      <td>29.6</td>\n",
       "      <td>13.6</td>\n",
       "      <td>38</td>\n",
       "      <td>24</td>\n",
       "      <td>48.3</td>\n",
       "      <td>101.46</td>\n",
       "      <td>Mainly Clear</td>\n",
       "    </tr>\n",
       "    <tr>\n",
       "      <th>8703</th>\n",
       "      <td>2012-12-28 15:00:00</td>\n",
       "      <td>15:00:00</td>\n",
       "      <td>28</td>\n",
       "      <td>December</td>\n",
       "      <td>-6.8</td>\n",
       "      <td>-10.3</td>\n",
       "      <td>76</td>\n",
       "      <td>24</td>\n",
       "      <td>48.3</td>\n",
       "      <td>101.22</td>\n",
       "      <td>Mainly Clear</td>\n",
       "    </tr>\n",
       "    <tr>\n",
       "      <th>3881</th>\n",
       "      <td>2012-06-10 17:00:00</td>\n",
       "      <td>17:00:00</td>\n",
       "      <td>10</td>\n",
       "      <td>June</td>\n",
       "      <td>26.6</td>\n",
       "      <td>10.0</td>\n",
       "      <td>35</td>\n",
       "      <td>6</td>\n",
       "      <td>48.3</td>\n",
       "      <td>101.37</td>\n",
       "      <td>Cloudy</td>\n",
       "    </tr>\n",
       "  </tbody>\n",
       "</table>\n",
       "</div>"
      ],
      "text/plain": [
       "                Datetime      Time  Day     Month  Temp_C  Dew Point Temp_C   \n",
       "4528 2012-07-07 16:00:00  16:00:00    7      July    29.1              15.7  \\\n",
       "5795 2012-08-29 11:00:00  11:00:00   29    August    21.9               8.5   \n",
       "7932 2012-11-26 12:00:00  12:00:00   26  November    -1.3             -10.6   \n",
       "4171 2012-06-22 19:00:00  19:00:00   22      June    25.7              11.7   \n",
       "6732 2012-10-07 12:00:00  12:00:00    7   October     9.2               0.6   \n",
       "3392 2012-05-21 08:00:00  08:00:00   21       May    24.0              11.1   \n",
       "2004 2012-03-24 12:00:00  12:00:00   24     March     4.8             -10.3   \n",
       "3015 2012-05-05 15:00:00  15:00:00    5       May    15.4              -1.0   \n",
       "2586 2012-04-17 18:00:00  18:00:00   17     April     9.5              -2.8   \n",
       "4645 2012-07-12 13:00:00  13:00:00   12      July    29.6              13.6   \n",
       "8703 2012-12-28 15:00:00  15:00:00   28  December    -6.8             -10.3   \n",
       "3881 2012-06-10 17:00:00  17:00:00   10      June    26.6              10.0   \n",
       "\n",
       "      Rel Hum_%  Wind Speed_km/h  Visibility_km  Press_kPa        Weather  \n",
       "4528         44               17           48.3     100.28  Mostly Cloudy  \n",
       "5795         42               22           48.3     101.07          Clear  \n",
       "7932         49               24           48.3     101.33   Mainly Clear  \n",
       "4171         42               11           48.3     100.38  Mostly Cloudy  \n",
       "6732         55               22           48.3     101.36  Mostly Cloudy  \n",
       "3392         44               19           48.3     101.69  Mostly Cloudy  \n",
       "2004         33               19           48.3     101.80         Cloudy  \n",
       "3015         32                6           48.3     101.55   Mainly Clear  \n",
       "2586         42               24           48.3     101.79  Mostly Cloudy  \n",
       "4645         38               24           48.3     101.46   Mainly Clear  \n",
       "8703         76               24           48.3     101.22   Mainly Clear  \n",
       "3881         35                6           48.3     101.37         Cloudy  "
      ]
     },
     "execution_count": 120,
     "metadata": {},
     "output_type": "execute_result"
    }
   ],
   "source": [
    "df2.sample(12)"
   ]
  },
  {
   "cell_type": "code",
   "execution_count": 121,
   "id": "0e17005e",
   "metadata": {},
   "outputs": [],
   "source": [
    "df2.to_csv(\"High Vis Times.csv\")"
   ]
  },
  {
   "cell_type": "markdown",
   "id": "89121d36",
   "metadata": {},
   "source": [
    "## Relationship between Weather Elements:"
   ]
  },
  {
   "cell_type": "code",
   "execution_count": 122,
   "id": "6d1f679c",
   "metadata": {},
   "outputs": [
    {
     "data": {
      "text/html": [
       "<div>\n",
       "<style scoped>\n",
       "    .dataframe tbody tr th:only-of-type {\n",
       "        vertical-align: middle;\n",
       "    }\n",
       "\n",
       "    .dataframe tbody tr th {\n",
       "        vertical-align: top;\n",
       "    }\n",
       "\n",
       "    .dataframe thead th {\n",
       "        text-align: right;\n",
       "    }\n",
       "</style>\n",
       "<table border=\"1\" class=\"dataframe\">\n",
       "  <thead>\n",
       "    <tr style=\"text-align: right;\">\n",
       "      <th></th>\n",
       "      <th>Datetime</th>\n",
       "      <th>Time</th>\n",
       "      <th>Day</th>\n",
       "      <th>Month</th>\n",
       "      <th>Temp_C</th>\n",
       "      <th>Dew Point Temp_C</th>\n",
       "      <th>Rel Hum_%</th>\n",
       "      <th>Wind Speed_km/h</th>\n",
       "      <th>Visibility_km</th>\n",
       "      <th>Press_kPa</th>\n",
       "      <th>Weather</th>\n",
       "    </tr>\n",
       "  </thead>\n",
       "  <tbody>\n",
       "    <tr>\n",
       "      <th>0</th>\n",
       "      <td>2012-01-01 00:00:00</td>\n",
       "      <td>00:00:00</td>\n",
       "      <td>1</td>\n",
       "      <td>January</td>\n",
       "      <td>-1.8</td>\n",
       "      <td>-3.9</td>\n",
       "      <td>86</td>\n",
       "      <td>4</td>\n",
       "      <td>8.0</td>\n",
       "      <td>101.24</td>\n",
       "      <td>Fog</td>\n",
       "    </tr>\n",
       "    <tr>\n",
       "      <th>1</th>\n",
       "      <td>2012-01-01 01:00:00</td>\n",
       "      <td>01:00:00</td>\n",
       "      <td>1</td>\n",
       "      <td>January</td>\n",
       "      <td>-1.8</td>\n",
       "      <td>-3.7</td>\n",
       "      <td>87</td>\n",
       "      <td>4</td>\n",
       "      <td>8.0</td>\n",
       "      <td>101.24</td>\n",
       "      <td>Fog</td>\n",
       "    </tr>\n",
       "  </tbody>\n",
       "</table>\n",
       "</div>"
      ],
      "text/plain": [
       "             Datetime      Time  Day    Month  Temp_C  Dew Point Temp_C   \n",
       "0 2012-01-01 00:00:00  00:00:00    1  January    -1.8              -3.9  \\\n",
       "1 2012-01-01 01:00:00  01:00:00    1  January    -1.8              -3.7   \n",
       "\n",
       "   Rel Hum_%  Wind Speed_km/h  Visibility_km  Press_kPa Weather  \n",
       "0         86                4            8.0     101.24     Fog  \n",
       "1         87                4            8.0     101.24     Fog  "
      ]
     },
     "execution_count": 122,
     "metadata": {},
     "output_type": "execute_result"
    }
   ],
   "source": [
    "df.head(2)"
   ]
  },
  {
   "cell_type": "code",
   "execution_count": 123,
   "id": "012e4453",
   "metadata": {},
   "outputs": [],
   "source": [
    "new_df = df[['Temp_C', 'Dew Point Temp_C',\n",
    "       'Rel Hum_%', 'Wind Speed_km/h', 'Visibility_km', 'Press_kPa']]"
   ]
  },
  {
   "cell_type": "code",
   "execution_count": 124,
   "id": "0e569b02",
   "metadata": {},
   "outputs": [
    {
     "data": {
      "text/html": [
       "<div>\n",
       "<style scoped>\n",
       "    .dataframe tbody tr th:only-of-type {\n",
       "        vertical-align: middle;\n",
       "    }\n",
       "\n",
       "    .dataframe tbody tr th {\n",
       "        vertical-align: top;\n",
       "    }\n",
       "\n",
       "    .dataframe thead th {\n",
       "        text-align: right;\n",
       "    }\n",
       "</style>\n",
       "<table border=\"1\" class=\"dataframe\">\n",
       "  <thead>\n",
       "    <tr style=\"text-align: right;\">\n",
       "      <th></th>\n",
       "      <th>Temp_C</th>\n",
       "      <th>Dew Point Temp_C</th>\n",
       "      <th>Rel Hum_%</th>\n",
       "      <th>Wind Speed_km/h</th>\n",
       "      <th>Visibility_km</th>\n",
       "      <th>Press_kPa</th>\n",
       "    </tr>\n",
       "  </thead>\n",
       "  <tbody>\n",
       "    <tr>\n",
       "      <th>Temp_C</th>\n",
       "      <td>1.000000</td>\n",
       "      <td>0.932714</td>\n",
       "      <td>-0.220182</td>\n",
       "      <td>-0.061876</td>\n",
       "      <td>0.273455</td>\n",
       "      <td>-0.236389</td>\n",
       "    </tr>\n",
       "    <tr>\n",
       "      <th>Dew Point Temp_C</th>\n",
       "      <td>0.932714</td>\n",
       "      <td>1.000000</td>\n",
       "      <td>0.139494</td>\n",
       "      <td>-0.095685</td>\n",
       "      <td>0.050813</td>\n",
       "      <td>-0.320616</td>\n",
       "    </tr>\n",
       "    <tr>\n",
       "      <th>Rel Hum_%</th>\n",
       "      <td>-0.220182</td>\n",
       "      <td>0.139494</td>\n",
       "      <td>1.000000</td>\n",
       "      <td>-0.092743</td>\n",
       "      <td>-0.633683</td>\n",
       "      <td>-0.231424</td>\n",
       "    </tr>\n",
       "    <tr>\n",
       "      <th>Wind Speed_km/h</th>\n",
       "      <td>-0.061876</td>\n",
       "      <td>-0.095685</td>\n",
       "      <td>-0.092743</td>\n",
       "      <td>1.000000</td>\n",
       "      <td>0.004883</td>\n",
       "      <td>-0.356613</td>\n",
       "    </tr>\n",
       "    <tr>\n",
       "      <th>Visibility_km</th>\n",
       "      <td>0.273455</td>\n",
       "      <td>0.050813</td>\n",
       "      <td>-0.633683</td>\n",
       "      <td>0.004883</td>\n",
       "      <td>1.000000</td>\n",
       "      <td>0.231847</td>\n",
       "    </tr>\n",
       "    <tr>\n",
       "      <th>Press_kPa</th>\n",
       "      <td>-0.236389</td>\n",
       "      <td>-0.320616</td>\n",
       "      <td>-0.231424</td>\n",
       "      <td>-0.356613</td>\n",
       "      <td>0.231847</td>\n",
       "      <td>1.000000</td>\n",
       "    </tr>\n",
       "  </tbody>\n",
       "</table>\n",
       "</div>"
      ],
      "text/plain": [
       "                    Temp_C  Dew Point Temp_C  Rel Hum_%  Wind Speed_km/h   \n",
       "Temp_C            1.000000          0.932714  -0.220182        -0.061876  \\\n",
       "Dew Point Temp_C  0.932714          1.000000   0.139494        -0.095685   \n",
       "Rel Hum_%        -0.220182          0.139494   1.000000        -0.092743   \n",
       "Wind Speed_km/h  -0.061876         -0.095685  -0.092743         1.000000   \n",
       "Visibility_km     0.273455          0.050813  -0.633683         0.004883   \n",
       "Press_kPa        -0.236389         -0.320616  -0.231424        -0.356613   \n",
       "\n",
       "                  Visibility_km  Press_kPa  \n",
       "Temp_C                 0.273455  -0.236389  \n",
       "Dew Point Temp_C       0.050813  -0.320616  \n",
       "Rel Hum_%             -0.633683  -0.231424  \n",
       "Wind Speed_km/h        0.004883  -0.356613  \n",
       "Visibility_km          1.000000   0.231847  \n",
       "Press_kPa              0.231847   1.000000  "
      ]
     },
     "execution_count": 124,
     "metadata": {},
     "output_type": "execute_result"
    }
   ],
   "source": [
    "new_df.corr()"
   ]
  },
  {
   "cell_type": "code",
   "execution_count": null,
   "id": "d2bf471e",
   "metadata": {},
   "outputs": [],
   "source": []
  }
 ],
 "metadata": {
  "kernelspec": {
   "display_name": "Python 3 (ipykernel)",
   "language": "python",
   "name": "python3"
  },
  "language_info": {
   "codemirror_mode": {
    "name": "ipython",
    "version": 3
   },
   "file_extension": ".py",
   "mimetype": "text/x-python",
   "name": "python",
   "nbconvert_exporter": "python",
   "pygments_lexer": "ipython3",
   "version": "3.11.0"
  }
 },
 "nbformat": 4,
 "nbformat_minor": 5
}
